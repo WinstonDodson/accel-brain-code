{
 "cells": [
  {
   "cell_type": "markdown",
   "metadata": {},
   "source": [
    "# Problem Setting: Image Classification with hand-written DIGITS.\n",
    "\n",
    "This notebook demonstrates the standard and simple Convolutional Neural Networks(CNNs) can learn images and discriminates its. Image dataset for this demo is the MNIST. The code of this notebook is written on the premise that the MNIST images are divided and arranged in directories for each label beforehand.\n",
    "\n",
    "## Problem Solution: the Convolutional Neural Networks(CNNs)\n",
    "\n",
    "Firstly, import Python modules for building Convolutional Neural Networks(CNNs)."
   ]
  },
  {
   "cell_type": "code",
   "execution_count": 1,
   "metadata": {},
   "outputs": [],
   "source": [
    "from accelbrainbase.computableloss._mxnet.l2_norm_loss import L2NormLoss\n",
    "from accelbrainbase.extractabledata._mxnet.image_extractor import ImageExtractor\n",
    "from accelbrainbase.iteratabledata._mxnet.labeled_image_iterator import LabeledImageIterator\n",
    "from accelbrainbase.noiseabledata._mxnet.gauss_noise import GaussNoise\n",
    "from accelbrainbase.observabledata._mxnet.convolutional_neural_networks import ConvolutionalNeuralNetworks\n",
    "from accelbrainbase.observabledata._mxnet.neural_networks import NeuralNetworks"
   ]
  },
  {
   "cell_type": "code",
   "execution_count": 3,
   "metadata": {},
   "outputs": [],
   "source": [
    "import mxnet as mx\n",
    "import mxnet.ndarray as nd\n",
    "import numpy as np\n",
    "import pandas as pd\n",
    "from mxnet.gluon.nn import Conv2D"
   ]
  },
  {
   "cell_type": "markdown",
   "metadata": {},
   "source": [
    "If you want to observe the learning log, set `getLogger`."
   ]
  },
  {
   "cell_type": "code",
   "execution_count": 2,
   "metadata": {},
   "outputs": [],
   "source": [
    "from logging import getLogger, StreamHandler, NullHandler, DEBUG, ERROR\n",
    "\n",
    "logger = getLogger(\"accelbrainbase\")\n",
    "handler = StreamHandler()\n",
    "handler.setLevel(DEBUG)\n",
    "logger.setLevel(DEBUG)\n",
    "logger.addHandler(handler)"
   ]
  },
  {
   "cell_type": "markdown",
   "metadata": {},
   "source": [
    "Build and initialize `ImageExtractor`, specifying parameters such as image size."
   ]
  },
  {
   "cell_type": "code",
   "execution_count": 4,
   "metadata": {},
   "outputs": [],
   "source": [
    "image_extractor = ImageExtractor(\n",
    "    # `int` of image width.\n",
    "    width=28,\n",
    "    # `int` of image height.\n",
    "    height=28,\n",
    "    # `int` of image channel.\n",
    "    channel=1,\n",
    "    # `mx.gpu()` or `mx.cpu()`.\n",
    "    ctx=mx.gpu()\n",
    ")"
   ]
  },
  {
   "cell_type": "markdown",
   "metadata": {},
   "source": [
    "Build and initialize `LabeledImageIterator`, delegating `image_extractor` and specifying parameters such as file path to image files."
   ]
  },
  {
   "cell_type": "code",
   "execution_count": 5,
   "metadata": {},
   "outputs": [],
   "source": [
    "labeled_image_iterator = LabeledImageIterator(\n",
    "    # is-a `ImageExtractor`.\n",
    "    image_extractor=image_extractor,\n",
    "    # `list` of paths to image files in learning.\n",
    "    dir_list=[\n",
    "        \"../../../../Downloads/digit-recognizer/train/0/\", \n",
    "        \"../../../../Downloads/digit-recognizer/train/1/\", \n",
    "        \"../../../../Downloads/digit-recognizer/train/2/\", \n",
    "        \"../../../../Downloads/digit-recognizer/train/3/\", \n",
    "        \"../../../../Downloads/digit-recognizer/train/4/\", \n",
    "        \"../../../../Downloads/digit-recognizer/train/5/\", \n",
    "        \"../../../../Downloads/digit-recognizer/train/6/\", \n",
    "        \"../../../../Downloads/digit-recognizer/train/7/\", \n",
    "        \"../../../../Downloads/digit-recognizer/train/8/\", \n",
    "        \"../../../../Downloads/digit-recognizer/train/9/\", \n",
    "    ],\n",
    "    # `list` of paths to image files in test.\n",
    "    test_dir_list=[\n",
    "        \"../../../../Downloads/digit-recognizer/test/0/\", \n",
    "        \"../../../../Downloads/digit-recognizer/test/1/\", \n",
    "        \"../../../../Downloads/digit-recognizer/test/2/\", \n",
    "        \"../../../../Downloads/digit-recognizer/test/3/\", \n",
    "        \"../../../../Downloads/digit-recognizer/test/4/\", \n",
    "        \"../../../../Downloads/digit-recognizer/test/5/\", \n",
    "        \"../../../../Downloads/digit-recognizer/test/6/\", \n",
    "        \"../../../../Downloads/digit-recognizer/test/7/\", \n",
    "        \"../../../../Downloads/digit-recognizer/test/8/\", \n",
    "        \"../../../../Downloads/digit-recognizer/test/9/\", \n",
    "    ],\n",
    "    # `int` of epochs.\n",
    "    epochs=10,\n",
    "    # `int` of batch size.\n",
    "    batch_size=40,\n",
    "    # How to normalize pixel values of images.\n",
    "    # - `z_score`: Z-Score normalization.\n",
    "    # - `min_max`: Min-max normalization.\n",
    "    # - others : This class will not normalize the data.\n",
    "    norm_mode=\"z_score\",\n",
    "    # `float` of scaling factor for data.\n",
    "    scale=1.0,\n",
    "    # is-a `NoiseableData`.\n",
    "    noiseable_data=GaussNoise(sigma=1e-03, mu=0.0),\n",
    ")"
   ]
  },
  {
   "cell_type": "markdown",
   "metadata": {},
   "source": [
    "Build and initialize loss function."
   ]
  },
  {
   "cell_type": "code",
   "execution_count": 6,
   "metadata": {},
   "outputs": [],
   "source": [
    "computable_loss = mx.gluon.loss.SoftmaxCrossEntropyLoss(sparse_label=False)"
   ]
  },
  {
   "cell_type": "markdown",
   "metadata": {},
   "source": [
    "Build and initialize `NeuralNetworks` as an output layer and `ConvolutionalNeuralNetworks` as an input and hidden layers."
   ]
  },
  {
   "cell_type": "code",
   "execution_count": 7,
   "metadata": {},
   "outputs": [],
   "source": [
    "output_nn = NeuralNetworks(\n",
    "    # is-a `ComputableLoss` or `mxnet.gluon.loss`.\n",
    "    computable_loss=computable_loss,\n",
    "    # `list` of int` of the number of units in hidden/output layers.\n",
    "    units_list=[10],\n",
    "    # `list` of act_type` in `mxnet.ndarray.Activation` or `mxnet.symbol.Activation` in input gate.\n",
    "    activation_list=[\"identity\"],\n",
    "    # `list` of `float` of dropout rate.\n",
    "    dropout_rate_list=[0.0],\n",
    "    # `list` of `mxnet.gluon.nn.BatchNorm`.\n",
    "    hidden_batch_norm_list=[None],\n",
    "    # `bool` for using bias or not in output layer(last hidden layer).\n",
    "    output_no_bias_flag=True,\n",
    "    # `bool` for using bias or not in all layer.\n",
    "    all_no_bias_flag=True,\n",
    "    # Call `mxnet.gluon.HybridBlock.hybridize()` or not.\n",
    "    hybridize_flag=True,\n",
    "    # `mx.gpu()` or `mx.cpu()`.\n",
    "    ctx=mx.gpu(),\n",
    ")"
   ]
  },
  {
   "cell_type": "code",
   "execution_count": null,
   "metadata": {},
   "outputs": [],
   "source": [
    "CNN = ConvolutionalNeuralNetworks(\n",
    "    # is-a `ComputableLoss` or `mxnet.gluon.loss`.\n",
    "    computable_loss=computable_loss,\n",
    "    # is-a `mxnet.initializer` for parameters of model. If `None`, it is drawing from the Xavier distribution.\n",
    "    initializer=None,\n",
    "    # `float` of learning rate.\n",
    "    learning_rate=1e-03,\n",
    "    # `float` of attenuate the `learning_rate` by a factor of this value every `attenuate_epoch`.\n",
    "    learning_attenuate_rate=1.0,\n",
    "    # `int` of attenuate the `learning_rate` by a factor of `learning_attenuate_rate` every `attenuate_epoch`.\n",
    "    attenuate_epoch=50,\n",
    "    # `list` of int` of the number of units in hidden layers.\n",
    "    hidden_units_list=[\n",
    "        # `mxnet.gluon.nn.Conv2D`.\n",
    "        Conv2D(\n",
    "            channels=16,\n",
    "            kernel_size=3,\n",
    "            strides=(2, 2),\n",
    "            padding=(1, 1),\n",
    "        ), \n",
    "        Conv2D(\n",
    "            channels=32,\n",
    "            kernel_size=3,\n",
    "            strides=(2, 2),\n",
    "            padding=(1, 1),\n",
    "        ),\n",
    "    ],\n",
    "    # `list` of act_type` in `mxnet.ndarray.Activation` or `mxnet.symbol.Activation` in input gate.\n",
    "    hidden_activation_list=[\"relu\", \"relu\"],\n",
    "    # `list` of `float` of dropout rate.\n",
    "    hidden_dropout_rate_list=[0.0, 0.0],\n",
    "    # `list` of `mxnet.gluon.nn.BatchNorm`.\n",
    "    hidden_batch_norm_list=[None, None],\n",
    "    # is-a `NeuralNetworks` or `mxnet.gluon.block.hybridblock.HybridBlock`.\n",
    "    output_nn=output_nn,\n",
    "    # `str` of name of optimizer.\n",
    "    optimizer_name=\"SGD\",\n",
    "    # Call `mxnet.gluon.HybridBlock.hybridize()` or not.\n",
    "    hybridize_flag=True,\n",
    "    # `mx.gpu()` or `mx.cpu()`.\n",
    "    ctx=mx.gpu(),\n",
    ")"
   ]
  },
  {
   "cell_type": "markdown",
   "metadata": {},
   "source": [
    "Start learning."
   ]
  },
  {
   "cell_type": "code",
   "execution_count": 8,
   "metadata": {
    "scrolled": true
   },
   "outputs": [
    {
     "name": "stderr",
     "output_type": "stream",
     "text": [
      "Epochs: 100 Train loss: 1.6100113 Test loss: 1.4100302\n",
      "----------------------------------------------------------------------------------------------------\n",
      "Train accuracy: 0.475 Test accuracy: 0.625\n",
      "Train infenreced label:\n",
      "[5. 7. 9. 3. 7. 0. 3. 5. 5. 1. 7. 6. 5. 3. 3. 0. 9. 0. 6. 3. 4. 3. 3. 3.\n",
      " 1. 1. 5. 1. 8. 6. 0. 5. 0. 5. 6. 0. 2. 7. 6. 5.]\n",
      "[0. 7. 7. 3. 7. 0. 2. 1. 6. 7. 4. 6. 6. 3. 2. 0. 4. 6. 6. 5. 4. 3. 3. 5.\n",
      " 1. 1. 0. 1. 9. 4. 0. 6. 0. 8. 6. 0. 2. 2. 3. 8.]\n",
      "Test infenreced label:\n",
      "[3. 6. 8. 6. 3. 0. 6. 2. 5. 9. 1. 1. 1. 5. 6. 6. 1. 0. 7. 7. 6. 7. 1. 7.\n",
      " 2. 2. 7. 8. 9. 6. 1. 7. 7. 6. 6. 8. 9. 7. 4. 8.]\n",
      "[7. 6. 8. 6. 3. 0. 6. 0. 0. 9. 1. 3. 1. 5. 5. 0. 4. 5. 7. 4. 6. 7. 1. 9.\n",
      " 2. 8. 7. 8. 6. 6. 1. 7. 9. 6. 6. 8. 2. 7. 7. 8.]\n",
      "----------------------------------------------------------------------------------------------------\n",
      "Epochs: 200 Train loss: 1.0250375 Test loss: 1.0434698\n",
      "----------------------------------------------------------------------------------------------------\n",
      "Train accuracy: 0.7 Test accuracy: 0.675\n",
      "Train infenreced label:\n",
      "[5. 4. 2. 2. 6. 1. 4. 5. 1. 7. 2. 1. 4. 8. 3. 9. 0. 8. 5. 2. 8. 7. 9. 7.\n",
      " 1. 4. 7. 5. 7. 3. 7. 8. 1. 9. 9. 2. 6. 0. 8. 3.]\n",
      "[0. 4. 2. 2. 4. 8. 6. 8. 1. 7. 8. 1. 4. 5. 3. 9. 0. 8. 5. 5. 8. 7. 9. 7.\n",
      " 1. 4. 7. 5. 7. 3. 7. 5. 1. 9. 4. 2. 6. 0. 6. 5.]\n",
      "Test infenreced label:\n",
      "[1. 4. 1. 1. 5. 1. 1. 1. 8. 0. 5. 3. 8. 1. 0. 7. 8. 2. 3. 5. 9. 7. 2. 6.\n",
      " 8. 8. 3. 5. 8. 4. 9. 4. 3. 4. 0. 3. 5. 4. 5. 4.]\n",
      "[1. 2. 1. 1. 5. 1. 2. 1. 2. 5. 5. 3. 8. 9. 7. 2. 8. 2. 3. 5. 5. 5. 2. 6.\n",
      " 8. 8. 3. 3. 4. 4. 9. 5. 3. 4. 0. 3. 5. 4. 5. 9.]\n",
      "----------------------------------------------------------------------------------------------------\n",
      "Epochs: 300 Train loss: 1.0632918 Test loss: 0.8937996\n",
      "----------------------------------------------------------------------------------------------------\n",
      "Train accuracy: 0.625 Test accuracy: 0.725\n",
      "Train infenreced label:\n",
      "[3. 5. 9. 3. 6. 5. 3. 9. 5. 4. 7. 3. 0. 8. 9. 1. 4. 4. 4. 9. 5. 1. 9. 5.\n",
      " 0. 6. 3. 6. 7. 0. 7. 2. 6. 6. 8. 2. 4. 4. 3. 6.]\n",
      "[3. 5. 4. 5. 6. 5. 3. 9. 5. 9. 9. 8. 0. 5. 8. 1. 4. 4. 8. 3. 5. 8. 9. 5.\n",
      " 3. 6. 3. 6. 7. 4. 7. 2. 5. 6. 2. 2. 4. 6. 3. 6.]\n",
      "Test infenreced label:\n",
      "[7. 1. 7. 7. 3. 9. 0. 6. 3. 0. 5. 9. 8. 5. 1. 3. 8. 7. 9. 2. 6. 7. 7. 3.\n",
      " 9. 1. 8. 1. 3. 9. 1. 4. 7. 1. 8. 6. 8. 8. 5. 6.]\n",
      "[7. 1. 7. 7. 3. 7. 0. 6. 3. 0. 3. 9. 8. 5. 1. 3. 7. 9. 5. 2. 6. 9. 7. 3.\n",
      " 9. 1. 1. 1. 3. 7. 1. 4. 9. 1. 8. 6. 8. 1. 5. 4.]\n",
      "----------------------------------------------------------------------------------------------------\n",
      "Epochs: 400 Train loss: 0.47276115 Test loss: 0.7615332\n",
      "----------------------------------------------------------------------------------------------------\n",
      "Train accuracy: 0.9 Test accuracy: 0.725\n",
      "Train infenreced label:\n",
      "[4. 5. 2. 8. 4. 1. 9. 3. 8. 2. 9. 0. 5. 6. 3. 8. 2. 3. 6. 0. 0. 0. 1. 3.\n",
      " 9. 0. 9. 3. 3. 7. 1. 2. 4. 6. 5. 4. 4. 0. 2. 6.]\n",
      "[4. 5. 2. 1. 4. 1. 7. 3. 8. 2. 9. 0. 5. 6. 3. 8. 2. 3. 6. 0. 5. 0. 1. 3.\n",
      " 9. 0. 9. 3. 3. 7. 1. 2. 4. 6. 5. 9. 4. 0. 2. 6.]\n",
      "Test infenreced label:\n",
      "[5. 8. 4. 4. 9. 7. 7. 6. 0. 1. 4. 6. 7. 2. 8. 4. 1. 9. 8. 4. 0. 5. 6. 3.\n",
      " 2. 2. 7. 8. 1. 9. 4. 9. 5. 1. 3. 5. 6. 5. 6. 4.]\n",
      "[5. 8. 4. 4. 4. 7. 7. 6. 0. 1. 4. 6. 7. 5. 8. 4. 1. 9. 2. 4. 0. 0. 2. 3.\n",
      " 2. 2. 7. 5. 1. 7. 4. 9. 5. 1. 6. 8. 7. 2. 6. 4.]\n",
      "----------------------------------------------------------------------------------------------------\n",
      "Epochs: 500 Train loss: 0.6661013 Test loss: 0.58511174\n",
      "----------------------------------------------------------------------------------------------------\n",
      "Train accuracy: 0.775 Test accuracy: 0.825\n",
      "Train infenreced label:\n",
      "[0. 6. 8. 9. 3. 7. 2. 0. 9. 6. 9. 0. 7. 2. 1. 7. 4. 6. 7. 7. 3. 6. 5. 6.\n",
      " 4. 0. 3. 4. 9. 2. 8. 7. 4. 5. 2. 9. 2. 6. 7. 0.]\n",
      "[0. 4. 8. 9. 3. 7. 2. 0. 9. 4. 9. 0. 7. 2. 1. 7. 2. 6. 9. 7. 3. 6. 6. 6.\n",
      " 9. 0. 3. 4. 9. 2. 8. 7. 4. 5. 2. 7. 1. 6. 7. 5.]\n",
      "Test infenreced label:\n",
      "[0. 6. 3. 9. 6. 4. 3. 7. 9. 5. 8. 1. 7. 2. 4. 4. 2. 9. 1. 0. 9. 3. 1. 3.\n",
      " 9. 6. 5. 3. 3. 4. 4. 3. 1. 7. 2. 6. 8. 0. 4. 5.]\n",
      "[0. 6. 3. 1. 6. 4. 3. 9. 9. 8. 8. 1. 7. 2. 4. 4. 2. 9. 1. 0. 9. 5. 1. 3.\n",
      " 9. 6. 5. 8. 3. 4. 4. 3. 1. 7. 2. 6. 2. 5. 4. 5.]\n",
      "----------------------------------------------------------------------------------------------------\n",
      "Epochs: 600 Train loss: 0.5178904 Test loss: 0.60980415\n",
      "----------------------------------------------------------------------------------------------------\n",
      "Train accuracy: 0.825 Test accuracy: 0.775\n",
      "Train infenreced label:\n",
      "[7. 7. 1. 3. 9. 3. 8. 2. 5. 7. 1. 4. 5. 6. 3. 9. 8. 6. 1. 3. 4. 3. 0. 8.\n",
      " 3. 0. 8. 3. 0. 2. 5. 9. 8. 4. 2. 0. 0. 6. 5. 0.]\n",
      "[5. 8. 1. 3. 4. 3. 8. 2. 5. 7. 1. 4. 5. 6. 3. 9. 8. 2. 1. 3. 4. 4. 0. 8.\n",
      " 3. 0. 8. 2. 0. 2. 3. 9. 8. 4. 2. 0. 0. 6. 5. 0.]\n",
      "Test infenreced label:\n",
      "[0. 8. 2. 3. 2. 9. 0. 9. 2. 4. 4. 2. 3. 1. 0. 9. 1. 9. 9. 6. 1. 1. 5. 9.\n",
      " 4. 7. 3. 8. 6. 1. 8. 5. 8. 1. 3. 3. 0. 0. 0. 8.]\n",
      "[0. 3. 2. 7. 2. 9. 0. 9. 2. 4. 4. 2. 8. 1. 0. 9. 1. 9. 9. 6. 1. 1. 9. 9.\n",
      " 9. 7. 8. 8. 6. 3. 2. 5. 8. 1. 3. 2. 0. 0. 0. 8.]\n",
      "----------------------------------------------------------------------------------------------------\n",
      "Epochs: 700 Train loss: 0.62077826 Test loss: 0.5311973\n",
      "----------------------------------------------------------------------------------------------------\n",
      "Train accuracy: 0.825 Test accuracy: 0.825\n",
      "Train infenreced label:\n",
      "[5. 4. 1. 9. 1. 6. 9. 7. 0. 9. 9. 6. 3. 5. 2. 6. 2. 5. 7. 9. 9. 5. 4. 6.\n",
      " 1. 1. 4. 5. 3. 6. 7. 3. 9. 6. 7. 2. 5. 9. 4. 9.]\n",
      "[5. 4. 1. 9. 1. 6. 9. 7. 0. 9. 9. 6. 3. 8. 2. 6. 6. 5. 7. 9. 9. 5. 9. 6.\n",
      " 1. 1. 4. 3. 8. 6. 7. 3. 4. 6. 7. 2. 5. 9. 4. 7.]\n",
      "Test infenreced label:\n",
      "[7. 6. 7. 0. 0. 5. 7. 1. 0. 1. 3. 3. 1. 7. 5. 9. 7. 0. 9. 7. 1. 9. 9. 7.\n",
      " 7. 6. 5. 5. 8. 1. 7. 8. 2. 7. 1. 7. 9. 5. 3. 5.]\n",
      "[9. 6. 7. 0. 0. 5. 7. 1. 0. 1. 5. 9. 8. 7. 5. 9. 7. 0. 5. 7. 1. 9. 9. 7.\n",
      " 7. 6. 4. 5. 8. 1. 7. 8. 2. 7. 1. 7. 9. 5. 5. 5.]\n",
      "----------------------------------------------------------------------------------------------------\n",
      "Epochs: 800 Train loss: 0.30315524 Test loss: 0.3531318\n",
      "----------------------------------------------------------------------------------------------------\n",
      "Train accuracy: 0.925 Test accuracy: 0.9\n",
      "Train infenreced label:\n",
      "[0. 3. 6. 1. 2. 9. 9. 9. 3. 2. 7. 0. 0. 0. 2. 0. 8. 8. 1. 7. 6. 1. 0. 3.\n",
      " 6. 4. 8. 9. 2. 0. 6. 8. 2. 3. 3. 2. 6. 3. 4. 5.]\n",
      "[9. 3. 6. 1. 2. 9. 9. 9. 3. 2. 7. 0. 0. 0. 2. 0. 8. 8. 1. 7. 6. 8. 0. 3.\n",
      " 6. 4. 6. 9. 2. 0. 6. 8. 2. 3. 3. 2. 6. 3. 4. 5.]\n",
      "Test infenreced label:\n",
      "[8. 1. 9. 3. 7. 3. 9. 9. 5. 1. 1. 5. 9. 4. 8. 6. 0. 9. 4. 1. 8. 9. 9. 2.\n",
      " 9. 9. 5. 9. 7. 1. 8. 1. 3. 0. 5. 4. 8. 9. 9. 6.]\n",
      "[8. 1. 9. 3. 7. 3. 9. 9. 5. 1. 1. 5. 9. 4. 8. 6. 3. 9. 4. 1. 8. 9. 9. 2.\n",
      " 9. 9. 5. 4. 2. 1. 6. 1. 3. 0. 5. 4. 8. 9. 9. 6.]\n",
      "----------------------------------------------------------------------------------------------------\n",
      "Epochs: 900 Train loss: 0.7245027 Test loss: 0.4466316\n",
      "----------------------------------------------------------------------------------------------------\n",
      "Train accuracy: 0.75 Test accuracy: 0.825\n",
      "Train infenreced label:\n",
      "[8. 9. 9. 5. 0. 9. 6. 5. 2. 5. 1. 8. 7. 1. 8. 3. 7. 6. 9. 9. 6. 7. 4. 0.\n",
      " 8. 6. 4. 5. 1. 9. 9. 2. 3. 0. 5. 3. 5. 4. 0. 9.]\n",
      "[8. 5. 9. 5. 0. 9. 6. 8. 2. 5. 1. 8. 2. 3. 2. 3. 7. 0. 7. 9. 6. 7. 4. 0.\n",
      " 8. 6. 4. 5. 5. 9. 9. 2. 3. 0. 2. 3. 3. 4. 0. 9.]\n",
      "Test infenreced label:\n",
      "[6. 3. 5. 0. 4. 6. 2. 7. 6. 3. 5. 7. 3. 2. 2. 4. 8. 1. 5. 9. 6. 3. 0. 9.\n",
      " 6. 3. 1. 0. 8. 0. 8. 9. 6. 1. 9. 2. 5. 5. 0. 9.]\n",
      "[6. 3. 9. 0. 4. 6. 2. 7. 6. 3. 5. 7. 3. 3. 2. 9. 8. 1. 5. 7. 6. 3. 0. 4.\n",
      " 6. 3. 1. 0. 8. 0. 8. 9. 6. 1. 8. 2. 5. 1. 0. 9.]\n",
      "----------------------------------------------------------------------------------------------------\n",
      "Epochs: 1000 Train loss: 0.27378178 Test loss: 0.58619744\n",
      "----------------------------------------------------------------------------------------------------\n",
      "Train accuracy: 0.925 Test accuracy: 0.85\n",
      "Train infenreced label:\n",
      "[5. 7. 4. 5. 8. 8. 7. 6. 6. 6. 1. 0. 5. 6. 0. 8. 2. 5. 4. 6. 0. 3. 3. 4.\n",
      " 8. 8. 0. 5. 4. 6. 4. 7. 1. 4. 3. 1. 4. 6. 6. 8.]\n",
      "[5. 7. 4. 8. 8. 8. 7. 6. 6. 5. 1. 0. 5. 6. 0. 8. 2. 5. 4. 6. 0. 3. 3. 4.\n",
      " 8. 8. 0. 5. 4. 6. 4. 7. 1. 4. 3. 1. 4. 6. 6. 5.]\n",
      "Test infenreced label:\n",
      "[1. 9. 5. 2. 3. 9. 8. 7. 6. 2. 5. 6. 6. 1. 6. 3. 2. 3. 7. 4. 5. 7. 1. 2.\n",
      " 6. 6. 4. 0. 5. 3. 5. 0. 9. 7. 8. 5. 5. 1. 6. 3.]\n",
      "[1. 7. 8. 2. 3. 9. 8. 7. 6. 2. 9. 6. 6. 1. 3. 3. 1. 3. 7. 4. 5. 7. 1. 2.\n",
      " 6. 6. 4. 0. 5. 3. 5. 0. 9. 9. 8. 5. 5. 1. 6. 3.]\n",
      "----------------------------------------------------------------------------------------------------\n",
      "end. \n"
     ]
    }
   ],
   "source": [
    "CNN.learn(labeled_image_iterator)"
   ]
  },
  {
   "cell_type": "markdown",
   "metadata": {},
   "source": [
    "Visualize losses and accuracies."
   ]
  },
  {
   "cell_type": "code",
   "execution_count": 9,
   "metadata": {},
   "outputs": [
    {
     "data": {
      "image/png": "[encoded data removed]",
      "text/plain": [
       "<Figure size 1440x720 with 1 Axes>"
      ]
     },
     "metadata": {
      "needs_background": "light"
     },
     "output_type": "display_data"
    }
   ],
   "source": [
    "import matplotlib.pyplot as plt\n",
    "%matplotlib inline\n",
    "\n",
    "def moving_avg(arr, window=50):\n",
    "    return np.convolve(arr, np.ones(window) / window, mode='same')[window:-window]\n",
    "\n",
    "plt.figure(figsize=(20, 10))\n",
    "plt.plot(moving_avg(CNN.loss_arr[:, 0]), label=\"Train Loss.\")\n",
    "plt.plot(moving_avg(CNN.loss_arr[:, 1]), label=\"Test Loss.\")\n",
    "plt.legend()\n",
    "plt.title(\"Losses.\")\n",
    "plt.show()"
   ]
  },
  {
   "cell_type": "code",
   "execution_count": 10,
   "metadata": {},
   "outputs": [
    {
     "data": {
      "image/png": "[encoded data removed]",
      "text/plain": [
       "<Figure size 1440x720 with 1 Axes>"
      ]
     },
     "metadata": {
      "needs_background": "light"
     },
     "output_type": "display_data"
    }
   ],
   "source": [
    "plt.figure(figsize=(20, 10))\n",
    "plt.plot(moving_avg(CNN.acc_arr[:, 0]), label=\"Train Loss.\")\n",
    "plt.plot(moving_avg(CNN.acc_arr[:, 1]), label=\"Test Loss.\")\n",
    "plt.legend()\n",
    "plt.title(\"Accuracies.\")\n",
    "plt.show()"
   ]
  },
  {
   "cell_type": "markdown",
   "metadata": {},
   "source": [
    "As a verification, let's calculate the accuracy of the test data."
   ]
  },
  {
   "cell_type": "code",
   "execution_count": 11,
   "metadata": {},
   "outputs": [
    {
     "data": {
      "text/plain": [
       "0.8964999961853027"
      ]
     },
     "execution_count": 11,
     "metadata": {},
     "output_type": "execute_result"
    }
   ],
   "source": [
    "test_arr = None\n",
    "test_label_arr = None\n",
    "total_acc = 0.0\n",
    "i = 0\n",
    "for _, _, _test_arr, _label_test_arr in labeled_image_iterator.generate_learned_samples():\n",
    "    test_arr = _test_arr\n",
    "    test_label_arr = _label_test_arr\n",
    "    prob_arr = CNN.inference(test_arr)\n",
    "    acc, _, _ = CNN.compute_acc(prob_arr, test_label_arr)\n",
    "    total_acc += acc\n",
    "    i += 1\n",
    "    if i >= 50:\n",
    "        break\n",
    "avg_acc = total_acc / i\n",
    "avg_acc"
   ]
  },
  {
   "cell_type": "code",
   "execution_count": null,
   "metadata": {},
   "outputs": [],
   "source": []
  },
  {
   "cell_type": "code",
   "execution_count": null,
   "metadata": {},
   "outputs": [],
   "source": [
    "output_nn = NeuralNetworks(\n",
    "    # is-a `ComputableLoss` or `mxnet.gluon.loss`.\n",
    "    computable_loss=computable_loss,\n",
    "    # `list` of int` of the number of units in hidden/output layers.\n",
    "    units_list=[10],\n",
    "    # `list` of act_type` in `mxnet.ndarray.Activation` or `mxnet.symbol.Activation` in input gate.\n",
    "    activation_list=[\"identity\"],\n",
    "    # `list` of `float` of dropout rate.\n",
    "    dropout_rate_list=[0.0],\n",
    "    # `list` of `mxnet.gluon.nn.BatchNorm`.\n",
    "    hidden_batch_norm_list=[None],\n",
    "    # `bool` for using bias or not in output layer(last hidden layer).\n",
    "    output_no_bias_flag=True,\n",
    "    # `bool` for using bias or not in all layer.\n",
    "    all_no_bias_flag=True,\n",
    "    # Call `mxnet.gluon.HybridBlock.hybridize()` or not.\n",
    "    hybridize_flag=True,\n",
    "    # `mx.gpu()` or `mx.cpu()`.\n",
    "    ctx=mx.gpu(),\n",
    ")"
   ]
  },
  {
   "cell_type": "code",
   "execution_count": null,
   "metadata": {},
   "outputs": [],
   "source": [
    "CNN = MobileNetV2(\n",
    "    # is-a `ComputableLoss` or `mxnet.gluon.loss`.\n",
    "    computable_loss=computable_loss,\n",
    "    # is-a `mxnet.initializer.Initializer` for parameters of model. If `None`, it is drawing from the Xavier distribution.\n",
    "    initializer=None,\n",
    "    # `float` of learning rate.\n",
    "    learning_rate=1e-03,\n",
    "    # `float` of attenuate the `learning_rate` by a factor of this value every `attenuate_epoch`.\n",
    "    learning_attenuate_rate=1.0,\n",
    "    # `int` of attenuate the `learning_rate` by a factor of `learning_attenuate_rate` every `attenuate_epoch`.\n",
    "    attenuate_epoch=50,\n",
    "    # `int` of the number of filters in input lauer.\n",
    "    input_filter_n=32,\n",
    "    # `tuple` or `int` of kernel size in input layer.\n",
    "    input_kernel_size=(3, 3),\n",
    "    # `tuple` or `int` of strides in input layer.\n",
    "    input_strides=(2, 2),\n",
    "    # `tuple` or `int` of zero-padding in input layer.\n",
    "    input_padding=(1, 1),\n",
    "    # `list` of information of bottleneck layers whose `dict` means ...\n",
    "    # - `filter_rate`: `float` of filter expfilter.\n",
    "    # - `filter_n`: `int` of the number of filters.\n",
    "    # - `block_n`: `int` of the number of blocks.\n",
    "    # - `stride`: `int` or `tuple` of strides.\n",
    "    bottleneck_dict_list=[\n",
    "        {\n",
    "            \"filter_rate\": 1,\n",
    "            \"filter_n\": 32,\n",
    "            \"block_n\": 1,\n",
    "            \"stride\": 1\n",
    "        },\n",
    "        {\n",
    "            \"filter_rate\": 1,\n",
    "            \"filter_n\": 32,\n",
    "            \"block_n\": 2,\n",
    "            \"stride\": 1\n",
    "        },\n",
    "    ],\n",
    "    # `int` of the number of filters in hidden layers.\n",
    "    hidden_filter_n=64,\n",
    "    # `tuple` or `int` of pooling size in hidden layer.\n",
    "    # If `None`, the pooling layer will not attatched in hidden layer.\n",
    "    pool_size=None,\n",
    "    # is-a `NeuralNetworks` or `mxnet.gluon.block.hybridblock.HybridBlock`.\n",
    "    output_nn=output_nn,\n",
    "    # `str` of name of optimizer.\n",
    "    optimizer_name=\"adam\",\n",
    "    # Call `mxnet.gluon.HybridBlock.hybridize()` or not.\n",
    "    hybridize_flag=True,\n",
    "    # `mx.gpu()` or `mx.cpu()`.\n",
    "    ctx=mx.gpu(),\n",
    ")"
   ]
  },
  {
   "cell_type": "code",
   "execution_count": null,
   "metadata": {},
   "outputs": [],
   "source": [
    "CNN.learn(labeled_image_iterator)"
   ]
  },
  {
   "cell_type": "code",
   "execution_count": null,
   "metadata": {},
   "outputs": [],
   "source": [
    "import matplotlib.pyplot as plt\n",
    "%matplotlib inline\n",
    "\n",
    "def moving_avg(arr, window=50):\n",
    "    return np.convolve(arr, np.ones(window) / window, mode='same')[window:-window]\n",
    "\n",
    "plt.figure(figsize=(20, 10))\n",
    "plt.plot(moving_avg(CNN.loss_arr[:, 0]), label=\"Train Loss.\")\n",
    "plt.plot(moving_avg(CNN.loss_arr[:, 1]), label=\"Test Loss.\")\n",
    "plt.legend()\n",
    "plt.title(\"Losses.\")\n",
    "plt.show()"
   ]
  },
  {
   "cell_type": "code",
   "execution_count": null,
   "metadata": {},
   "outputs": [],
   "source": [
    "plt.figure(figsize=(20, 10))\n",
    "plt.plot(moving_avg(CNN.acc_arr[:, 0]), label=\"Train Loss.\")\n",
    "plt.plot(moving_avg(CNN.acc_arr[:, 1]), label=\"Test Loss.\")\n",
    "plt.legend()\n",
    "plt.title(\"Accuracies.\")\n",
    "plt.show()"
   ]
  },
  {
   "cell_type": "code",
   "execution_count": null,
   "metadata": {},
   "outputs": [],
   "source": [
    "test_arr = None\n",
    "test_label_arr = None\n",
    "total_acc = 0.0\n",
    "i = 0\n",
    "for _, _, _test_arr, _label_test_arr in labeled_image_iterator.generate_learned_samples():\n",
    "    test_arr = _test_arr\n",
    "    test_label_arr = _label_test_arr\n",
    "    prob_arr = CNN.inference(test_arr)\n",
    "    acc, _, _ = CNN.compute_acc(prob_arr, test_label_arr)\n",
    "    total_acc += acc\n",
    "    i += 1\n",
    "    if i >= 50:\n",
    "        break\n",
    "avg_acc = total_acc / i\n",
    "avg_acc"
   ]
  },
  {
   "cell_type": "code",
   "execution_count": null,
   "metadata": {},
   "outputs": [],
   "source": []
  },
  {
   "cell_type": "markdown",
   "metadata": {},
   "source": [
    "## For ML Ops.\n",
    "\n",
    "This model inherits [HybridBlock](https://gluon.mxnet.io/chapter07_distributed-learning/hybridize.html) from [mxnet.gluon](https://mxnet.incubator.apache.org/api/python/docs/api/gluon/index.html). Functions for common ML Ops such as saving and loading parameters are provided by [HybridBlock](https://mxnet.apache.org/api/python/docs/api/gluon/hybrid_block.html)."
   ]
  },
  {
   "cell_type": "markdown",
   "metadata": {},
   "source": [
    "# References\n",
    "\n",
    "- Dumoulin, V., & V,kisin, F. (2016). A guide to convolution arithmetic for deep learning. arXiv preprint arXiv:1603.07285.\n",
    "- Kamyshanska, H., & Memisevic, R. (2014). The potential energy of an autoencoder. IEEE transactions on pattern analysis and machine intelligence, 37(6), 1261-1273.\n",
    "- Masci, J., Meier, U., Cireşan, D., & Schmidhuber, J. (2011, June). Stacked convolutional auto-encoders for hierarchical feature extraction. In International Conference on Artificial Neural Networks (pp. 52-59). Springer, Berlin, Heidelberg."
   ]
  }
 ],
 "metadata": {
  "kernelspec": {
   "display_name": "Python 3",
   "language": "python",
   "name": "python3"
  },
  "language_info": {
   "codemirror_mode": {
    "name": "ipython",
    "version": 3
   },
   "file_extension": ".py",
   "mimetype": "text/x-python",
   "name": "python",
   "nbconvert_exporter": "python",
   "pygments_lexer": "ipython3",
   "version": "3.7.6"
  }
 },
 "nbformat": 4,
 "nbformat_minor": 2
}
