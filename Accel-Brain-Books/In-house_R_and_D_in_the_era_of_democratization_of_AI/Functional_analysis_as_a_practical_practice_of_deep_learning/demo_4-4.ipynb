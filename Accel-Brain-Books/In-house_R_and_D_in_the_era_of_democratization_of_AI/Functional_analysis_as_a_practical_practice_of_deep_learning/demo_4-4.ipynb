{
 "cells": [
  {
   "cell_type": "code",
   "execution_count": 1,
   "metadata": {
    "ExecuteTime": {
     "end_time": "2020-11-08T11:43:09.521331Z",
     "start_time": "2020-11-08T11:43:09.510360Z"
    }
   },
   "outputs": [],
   "source": [
    "class LinearTrans(object):\n",
    "    '''\n",
    "    Linear transformation.\n",
    "    '''\n",
    "    \n",
    "    def __init__(self, input_dim, output_dim, weight_arr=None, bias_arr=None):\n",
    "        '''\n",
    "        Init.\n",
    "        \n",
    "        Args:\n",
    "            input_dim:    `int` of the number of input dimension.\n",
    "            output_dim:   `int` of the number of output dimension.\n",
    "            weight_arr:   `np.ndarray` of weight matrix.\n",
    "            bias_arr:     `np.ndarray` of bias vector.\n",
    "        \n",
    "        Returns:\n",
    "            y.\n",
    "        '''\n",
    "        if weight_arr is not None:\n",
    "            self.weight_arr = weight_arr\n",
    "        else:\n",
    "            self.weight_arr = np.random.normal(size=(input_dim, output_dim))\n",
    "        \n",
    "        if bias_arr is not None:\n",
    "            self.bias_arr = bias_arr\n",
    "        else:\n",
    "            self.bias_arr = np.zeros(output_dim)\n",
    "    \n",
    "    def forward(self, observed_arr):\n",
    "        '''\n",
    "        Forawrd.\n",
    "        \n",
    "        Args:\n",
    "            observed_arr:     `np.ndarray` of observed data points.\n",
    "        \n",
    "        Returns:\n",
    "            `np.ndarray`.\n",
    "        '''\n",
    "        self.__observed_arr = observed_arr\n",
    "        output_arr = np.dot(observed_arr, self.weight_arr) + self.bias_arr\n",
    "        return output_arr\n",
    "\n",
    "    def backward(self, delta_arr):\n",
    "        '''\n",
    "        Backward.\n",
    "        \n",
    "        Args:\n",
    "            delta_arr:    `np.ndarray` of delta.\n",
    "        \n",
    "        Returns:\n",
    "            `np.ndarray` of delta.\n",
    "        '''\n",
    "        output_delta_arr = np.dot(delta_arr, self.weight_arr.T)\n",
    "        self.delta_weight_arr = np.dot(self.__observed_arr.T, delta_arr)\n",
    "        self.delta_bias_arr = np.sum(delta_arr, axis=0)\n",
    "        return output_delta_arr"
   ]
  },
  {
   "cell_type": "code",
   "execution_count": 2,
   "metadata": {
    "ExecuteTime": {
     "end_time": "2020-11-08T11:43:09.531304Z",
     "start_time": "2020-11-08T11:43:09.523327Z"
    }
   },
   "outputs": [],
   "source": [
    "class Sigmoid(object):\n",
    "    '''\n",
    "    Sigmoid function.\n",
    "    '''\n",
    "    \n",
    "    def __init__(self):\n",
    "        ''' Init. '''\n",
    "        self.output_arr = None\n",
    "    \n",
    "    def forward(self, observed_arr):\n",
    "        '''\n",
    "        Forawrd.\n",
    "        \n",
    "        Args:\n",
    "            observed_arr:     `np.ndarray` of observed data points.\n",
    "        \n",
    "        Returns:\n",
    "            `np.ndarray`.\n",
    "        '''\n",
    "        self.output_arr = 1 / (1 + np.exp(-observed_arr))\n",
    "        return self.output_arr\n",
    "\n",
    "    def backward(self, delta_arr):\n",
    "        '''\n",
    "        Backward.\n",
    "        \n",
    "        Args:\n",
    "            delta_arr:    `np.ndarray` of delta.\n",
    "        \n",
    "        Returns:\n",
    "            `np.ndarray` of delta.\n",
    "        '''\n",
    "        output_delta_arr = delta_arr * (1 - delta_arr) * self.output_arr\n",
    "        return output_delta_arr"
   ]
  },
  {
   "cell_type": "code",
   "execution_count": 3,
   "metadata": {
    "ExecuteTime": {
     "end_time": "2020-11-08T11:43:09.540281Z",
     "start_time": "2020-11-08T11:43:09.533298Z"
    }
   },
   "outputs": [],
   "source": [
    "class MSE(object):\n",
    "    ''' MSE.'''\n",
    "    \n",
    "    def __init__(self, ax=0):\n",
    "        ''' Init.'''\n",
    "        self.loss_arr = None\n",
    "        self.y = None\n",
    "        self.t = None\n",
    "        self.__ax = ax\n",
    "    \n",
    "    def forward(self, pred_arr, real_arr):\n",
    "        '''\n",
    "        Forawrd.\n",
    "        \n",
    "        Args:\n",
    "            pred_arr:         `np.ndarray` of predicted data.\n",
    "            real_arr:         `np.ndarray` of real data.\n",
    "        \n",
    "        Returns:\n",
    "            `np.ndarray`.\n",
    "        '''\n",
    "        self.loss_arr = (np.square(pred_arr - real_arr)).mean(axis=self.__ax)\n",
    "        self.pred_arr = pred_arr\n",
    "        self.real_arr = real_arr\n",
    "        return self.loss_arr\n",
    "\n",
    "    def backward(self, delta_arr=1):\n",
    "        '''\n",
    "        Backward.\n",
    "        \n",
    "        Args:\n",
    "            delta_arr:    `np.ndarray` of delta.\n",
    "        \n",
    "        Returns:\n",
    "            `np.ndarray` of delta.\n",
    "        '''\n",
    "        batch_size = self.pred_arr.shape[0]\n",
    "        output_delta_arr = delta_arr * (self.pred_arr - self.real_arr) / batch_size\n",
    "        return output_delta_arr\n"
   ]
  },
  {
   "cell_type": "code",
   "execution_count": 4,
   "metadata": {
    "ExecuteTime": {
     "end_time": "2020-11-08T11:43:09.563219Z",
     "start_time": "2020-11-08T11:43:09.542275Z"
    }
   },
   "outputs": [],
   "source": [
    "class NeuralNetworks(object):\n",
    "    '''\n",
    "    Neural Networks.\n",
    "    '''\n",
    "    \n",
    "    def __init__(\n",
    "        self, \n",
    "        input_dim, \n",
    "        hidden_dim_list, \n",
    "        output_dim, \n",
    "        loss,\n",
    "        optimizer,\n",
    "        net_dict_list=None\n",
    "    ):\n",
    "        '''\n",
    "        Init.\n",
    "        \n",
    "        Args:\n",
    "            input_dim:           `int` of the number of dimension of observed data points.\n",
    "            hidden_dim_list:     `list` of `int` of the number of dimension in hidden layers.\n",
    "            output_dim:          `int` of the number of dimension in output layer.\n",
    "            loss:                 Loss function.\n",
    "            optimizer:            optimizer\n",
    "            net_dict_list:        `list` of `dict` of parameters.\n",
    "        '''\n",
    "        if net_dict_list is None:\n",
    "            self.net_dict_list = [\n",
    "                {\n",
    "                    \"linear_trans\": LinearTrans(input_dim=input_dim, output_dim=hidden_dim_list[0]),\n",
    "                    \"activation\": Sigmoid(),\n",
    "                }\n",
    "            ]\n",
    "            for i in range(1, len(hidden_dim_list)):\n",
    "                before_dim = hidden_dim_list[i - 1]\n",
    "                after_dim = hidden_dim_list[i]\n",
    "                self.net_dict_list.append(\n",
    "                    {\n",
    "                        \"linear_trans\": LinearTrans(input_dim=before_dim, output_dim=after_dim),\n",
    "                        \"activation\": Sigmoid()\n",
    "                    }\n",
    "                )\n",
    "\n",
    "            self.net_dict_list.append(\n",
    "                {\n",
    "                    \"linear_trans\": LinearTrans(input_dim=hidden_dim_list[-1], output_dim=output_dim),\n",
    "                    \"activation\": Sigmoid(),\n",
    "                }\n",
    "            )\n",
    "        else:\n",
    "            self.net_dict_list = net_dict_list\n",
    "\n",
    "        self.__loss = loss\n",
    "        self.__optimizer = optimizer\n",
    "\n",
    "    def forward(self, observed_arr):\n",
    "        '''\n",
    "        Forawrd.\n",
    "        \n",
    "        Args:\n",
    "            observed_arr:     `np.ndarray` of observed data points.\n",
    "        \n",
    "        Returns:\n",
    "            `np.ndarray`.\n",
    "        '''\n",
    "        self.__observed_arr = observed_arr\n",
    "        for i in range(len(self.net_dict_list)):\n",
    "            # Forward.\n",
    "            observed_arr = self.net_dict_list[i][\"linear_trans\"].forward(observed_arr)\n",
    "            # Activation.\n",
    "            observed_arr = self.net_dict_list[i][\"activation\"].forward(observed_arr)\n",
    "\n",
    "        return observed_arr\n",
    "\n",
    "    def compute_loss(self, pred_arr, real_arr):\n",
    "        loss = self.__loss.forward(pred_arr, real_arr)\n",
    "        return np.mean(loss)\n",
    "    \n",
    "    def backward(self):\n",
    "        delta_arr = self.__loss.backward(delta_arr=1)\n",
    "        net_dict_list = self.net_dict_list[::-1]\n",
    "        for i in range(len(net_dict_list)):\n",
    "            delta_arr = net_dict_list[i][\"activation\"].backward(delta_arr)\n",
    "            delta_arr = net_dict_list[i][\"linear_trans\"].backward(delta_arr)\n",
    "        \n",
    "        self.net_dict_list = net_dict_list[::-1]\n",
    "\n",
    "        grads_dict = {}\n",
    "        params_dict = {}\n",
    "        for i in range(len(self.net_dict_list)):\n",
    "            grads_dict.setdefault(\n",
    "                \"weight_\" + str(i),\n",
    "                self.net_dict_list[i][\"linear_trans\"].delta_weight_arr\n",
    "            )\n",
    "            grads_dict.setdefault(\n",
    "                \"bias_\" + str(i),\n",
    "                self.net_dict_list[i][\"linear_trans\"].delta_bias_arr\n",
    "            )\n",
    "            params_dict.setdefault(\n",
    "                \"weight_\" + str(i),\n",
    "                self.net_dict_list[i][\"linear_trans\"].weight_arr\n",
    "            )\n",
    "            params_dict.setdefault(\n",
    "                \"bias_\" + str(i),\n",
    "                self.net_dict_list[i][\"linear_trans\"].bias_arr\n",
    "            )\n",
    "\n",
    "        params_dict = self.__optimizer.update(params_dict=params_dict, grads_dict=grads_dict)\n",
    "        for i in range(len(self.net_dict_list)):\n",
    "            self.net_dict_list[i][\"linear_trans\"].weight_arr = params_dict[\"weight_\" + str(i)]\n",
    "            self.net_dict_list[i][\"linear_trans\"].bias_arr = params_dict[\"bias_\" + str(i)]\n"
   ]
  },
  {
   "cell_type": "code",
   "execution_count": 5,
   "metadata": {
    "ExecuteTime": {
     "end_time": "2020-11-08T11:43:09.670930Z",
     "start_time": "2020-11-08T11:43:09.565213Z"
    }
   },
   "outputs": [],
   "source": [
    "import numpy as np\n",
    "\n",
    "class SGD(object):\n",
    "    '''\n",
    "    SGD.\n",
    "    '''\n",
    "    \n",
    "    def __init__(self, learning_rate=0.01):\n",
    "        '''\n",
    "        Init.\n",
    "        \n",
    "        Args:\n",
    "            learning_rate:    Learning rate.\n",
    "        '''\n",
    "        self.__learning_rate = learning_rate\n",
    "    \n",
    "    def update(self, params_dict, grads_dict):\n",
    "        '''\n",
    "        Update parameters.\n",
    "        \n",
    "        Args:\n",
    "            params_dict:    `dict` of `np,ndarray` of parameters.\n",
    "            grads_dict:     `dict` of `np.ndarray` of grads.\n",
    "        '''\n",
    "        for key in params_dict.keys():\n",
    "            params_dict[key] -= self.__learning_rate * grads_dict[key]\n",
    "        \n",
    "        return params_dict"
   ]
  },
  {
   "cell_type": "code",
   "execution_count": 6,
   "metadata": {
    "ExecuteTime": {
     "end_time": "2020-11-08T11:43:09.676915Z",
     "start_time": "2020-11-08T11:43:09.671955Z"
    }
   },
   "outputs": [],
   "source": [
    "nn = NeuralNetworks(\n",
    "    input_dim=10, \n",
    "    hidden_dim_list=[5, 5], \n",
    "    output_dim=10, \n",
    "    loss=MSE(),\n",
    "    optimizer=SGD(learning_rate=0.001)\n",
    ")"
   ]
  },
  {
   "cell_type": "code",
   "execution_count": 7,
   "metadata": {
    "ExecuteTime": {
     "end_time": "2020-11-08T11:43:09.855436Z",
     "start_time": "2020-11-08T11:43:09.678909Z"
    }
   },
   "outputs": [],
   "source": [
    "batch_size = 20\n",
    "iter_n = 1000\n",
    "dataset_arr = np.random.normal(loc=0.5, scale=0.001, size=(1000, 10))\n",
    "real_dataset_arr = dataset_arr * np.random.normal(loc=0.5, scale=0.001, size=(1000, 10))\n",
    "\n",
    "loss_list = []\n",
    "for _ in range(iter_n):\n",
    "    key_arr = np.random.randint(low=0, high=dataset_arr.shape[0], size=batch_size)\n",
    "    observed_arr = dataset_arr[key_arr]\n",
    "    real_arr = real_dataset_arr[key_arr]\n",
    "    pred_arr = nn.forward(observed_arr)\n",
    "    loss = nn.compute_loss(real_arr=real_arr, pred_arr=pred_arr)\n",
    "    nn.backward()\n",
    "    loss_list.append(loss)\n",
    "    "
   ]
  },
  {
   "cell_type": "code",
   "execution_count": 8,
   "metadata": {
    "ExecuteTime": {
     "end_time": "2020-11-08T11:43:10.233427Z",
     "start_time": "2020-11-08T11:43:09.857431Z"
    }
   },
   "outputs": [
    {
     "data": {
      "image/png": "[encoded data removed]",
      "text/plain": [
       "<Figure size 432x288 with 1 Axes>"
      ]
     },
     "metadata": {},
     "output_type": "display_data"
    }
   ],
   "source": [
    "import matplotlib.pyplot as plt\n",
    "%matplotlib inline\n",
    "plt.style.use('fivethirtyeight')\n",
    "\n",
    "plt.xlabel(\"Iteration.\")\n",
    "plt.ylabel(\"Loss.\")\n",
    "plt.title(\"Losses.\")\n",
    "plt.plot(loss_list)\n",
    "plt.show()"
   ]
  },
  {
   "cell_type": "code",
   "execution_count": 9,
   "metadata": {
    "ExecuteTime": {
     "end_time": "2020-11-08T12:10:40.763420Z",
     "start_time": "2020-11-08T12:10:40.756443Z"
    }
   },
   "outputs": [],
   "source": [
    "import numpy as np\n",
    "\n",
    "class MomentumSGD(object):\n",
    "    '''\n",
    "    SGD with momentum.\n",
    "    '''\n",
    "    \n",
    "    def __init__(self, learning_rate=0.01, momentum=0.9):\n",
    "        '''\n",
    "        Init.\n",
    "        \n",
    "        Args:\n",
    "            learning_rate:    Learning rate.\n",
    "            momentum:         Momentum.\n",
    "        '''\n",
    "        self.__learning_rate = learning_rate\n",
    "        self.__momentum = momentum\n",
    "        self.__value_dict = None\n",
    "    \n",
    "    def update(self, params_dict, grads_dict):\n",
    "        '''\n",
    "        Update parameters.\n",
    "        \n",
    "        Args:\n",
    "            params_dict:    `dict` of `np,ndarray` of parameters.\n",
    "            grads_dict:     `dict` of `np.ndarray` of grads.\n",
    "        '''\n",
    "        if self.__value_dict is None:\n",
    "            self.__value_dict = {}\n",
    "            for key, arr in params_dict.items():\n",
    "                self.__value_dict.setdefault(key, np.zeros_like(arr))\n",
    "\n",
    "        for key in params_dict.keys():\n",
    "            self.__value_dict[key] = self.__momentum * self.__value_dict[key] - self.__learning_rate * grads_dict[key]\n",
    "            params_dict[key] += self.__value_dict[key]\n",
    "        \n",
    "        return params_dict"
   ]
  },
  {
   "cell_type": "code",
   "execution_count": 10,
   "metadata": {
    "ExecuteTime": {
     "end_time": "2020-11-08T12:10:54.718191Z",
     "start_time": "2020-11-08T12:10:54.713270Z"
    }
   },
   "outputs": [],
   "source": [
    "nn = NeuralNetworks(\n",
    "    input_dim=10, \n",
    "    hidden_dim_list=[5, 5], \n",
    "    output_dim=10, \n",
    "    loss=MSE(),\n",
    "    optimizer=MomentumSGD(learning_rate=0.001, momentum=0.9)\n",
    ")"
   ]
  },
  {
   "cell_type": "code",
   "execution_count": 11,
   "metadata": {
    "ExecuteTime": {
     "end_time": "2020-11-08T12:11:04.077030Z",
     "start_time": "2020-11-08T12:11:03.919181Z"
    }
   },
   "outputs": [],
   "source": [
    "batch_size = 20\n",
    "iter_n = 1000\n",
    "dataset_arr = np.random.normal(loc=0.5, scale=0.001, size=(1000, 10))\n",
    "real_dataset_arr = dataset_arr * np.random.normal(loc=0.5, scale=0.001, size=(1000, 10))\n",
    "\n",
    "loss_list = []\n",
    "for _ in range(iter_n):\n",
    "    key_arr = np.random.randint(low=0, high=dataset_arr.shape[0], size=batch_size)\n",
    "    observed_arr = dataset_arr[key_arr]\n",
    "    real_arr = real_dataset_arr[key_arr]\n",
    "    pred_arr = nn.forward(observed_arr)\n",
    "    loss = nn.compute_loss(real_arr=real_arr, pred_arr=pred_arr)\n",
    "    nn.backward()\n",
    "    loss_list.append(loss)\n"
   ]
  },
  {
   "cell_type": "code",
   "execution_count": 13,
   "metadata": {
    "ExecuteTime": {
     "end_time": "2020-11-08T12:11:22.460274Z",
     "start_time": "2020-11-08T12:11:22.350532Z"
    }
   },
   "outputs": [
    {
     "data": {
      "image/png": "[encoded data removed]",
      "text/plain": [
       "<Figure size 432x288 with 1 Axes>"
      ]
     },
     "metadata": {},
     "output_type": "display_data"
    }
   ],
   "source": [
    "import matplotlib.pyplot as plt\n",
    "%matplotlib inline\n",
    "plt.style.use('fivethirtyeight')\n",
    "\n",
    "plt.xlabel(\"Iteration.\")\n",
    "plt.ylabel(\"Loss.\")\n",
    "plt.title(\"Losses (with momentum).\")\n",
    "plt.plot(loss_list)\n",
    "plt.show()"
   ]
  },
  {
   "cell_type": "code",
   "execution_count": null,
   "metadata": {},
   "outputs": [],
   "source": []
  }
 ],
 "metadata": {
  "kernelspec": {
   "display_name": "Python 3",
   "language": "python",
   "name": "python3"
  },
  "language_info": {
   "codemirror_mode": {
    "name": "ipython",
    "version": 3
   },
   "file_extension": ".py",
   "mimetype": "text/x-python",
   "name": "python",
   "nbconvert_exporter": "python",
   "pygments_lexer": "ipython3",
   "version": "3.7.6"
  }
 },
 "nbformat": 4,
 "nbformat_minor": 4
}
