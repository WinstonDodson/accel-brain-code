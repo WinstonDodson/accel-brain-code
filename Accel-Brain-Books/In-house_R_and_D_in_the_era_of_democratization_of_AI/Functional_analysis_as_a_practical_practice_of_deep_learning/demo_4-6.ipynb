{
 "cells": [
  {
   "cell_type": "code",
   "execution_count": 1,
   "metadata": {
    "ExecuteTime": {
     "end_time": "2020-11-08T13:30:40.503344Z",
     "start_time": "2020-11-08T13:30:40.411590Z"
    }
   },
   "outputs": [],
   "source": [
    "import numpy as np\n",
    "\n",
    "def entropy(X):\n",
    "    '''\n",
    "    H(X)\n",
    "    \n",
    "    Args:\n",
    "        X:    1-D `np.ndarray`.\n",
    "\n",
    "    Returns:\n",
    "        `float`\n",
    "    '''\n",
    "    unique, count = np.unique(\n",
    "        X, \n",
    "        return_counts=True, \n",
    "        axis=0\n",
    "    )\n",
    "    p = count / X.shape[0]\n",
    "    H = np.sum((-1)*p*np.log2(p))\n",
    "    return H\n",
    "\n",
    "\n",
    "def joint_entropy(X, Y):\n",
    "    '''\n",
    "    H(Y;X)\n",
    "\n",
    "    Args:\n",
    "        X:    1-D `np.ndarray`.\n",
    "        Y:    1-D `np.ndarray`.\n",
    "\n",
    "    Returns:\n",
    "        `float`\n",
    "    '''\n",
    "    return entropy(np.c_[X, Y])\n",
    "\n",
    "\n",
    "def conditional_entropy(X, Y):\n",
    "    \"\"\"\n",
    "    H(Y|X) = H(Y;X) - H(X)\n",
    "\n",
    "    Args:\n",
    "        X:    1-D `np.ndarray`.\n",
    "        Y:    1-D `np.ndarray`.\n",
    "\n",
    "    Returns:\n",
    "        `float`\n",
    "    \"\"\"\n",
    "    return joint_entropy(Y, X) - entropy(X)"
   ]
  },
  {
   "cell_type": "code",
   "execution_count": 10,
   "metadata": {
    "ExecuteTime": {
     "end_time": "2020-11-08T13:58:11.476547Z",
     "start_time": "2020-11-08T13:58:11.467573Z"
    }
   },
   "outputs": [],
   "source": [
    "class SoftmaxWithCrossEntropy(object):\n",
    "    '''\n",
    "    Softmax and Cross Entropy.\n",
    "    '''\n",
    "    \n",
    "    def __init__(self, ax=-1):\n",
    "        ''' Init. '''\n",
    "        self.__loss_arr = None\n",
    "        self.__pred_arr = None\n",
    "        self.__real_arr = None\n",
    "        self.__ax = ax\n",
    "    \n",
    "    def forward(self, pred_arr, real_arr):\n",
    "        '''\n",
    "        Forward.\n",
    "        \n",
    "        Args:\n",
    "            pred_arr:    `np.ndarray` of predicted data.\n",
    "            real_arr:    `np.ndarray` of real data.\n",
    "        \n",
    "        Returns:\n",
    "            Result.\n",
    "        '''\n",
    "        # Softmax.\n",
    "        c_arr = np.expand_dims(np.max(pred_arr, axis=self.__ax), axis=-1)\n",
    "        exp_arr = np.exp(pred_arr - c_arr)\n",
    "        sum_exp_arr = np.expand_dims(np.sum(exp_arr, axis=self.__ax), axis=-1)\n",
    "        prob_arr = exp_arr / sum_exp_arr\n",
    "\n",
    "        self.__pred_arr = prob_arr\n",
    "        self.__real_arr = real_arr\n",
    "\n",
    "        # Cross Entropy.\n",
    "        if real_arr.ndim == 1:\n",
    "            real_arr = real_arr.reshape(1, real_arr.size)\n",
    "            prob_arr = prob_arr.reshape(1, prob_arr.size)\n",
    "\n",
    "        batch_size = prob_arr.shape[0]\n",
    "        cross_entropy_arr = -np.sum(real_arr * np.log(prob_arr + 1e-08)) / batch_size\n",
    "        \n",
    "        self.__loss_arr = cross_entropy_arr\n",
    "        return cross_entropy_arr\n",
    "\n",
    "    def backward(self, delta_arr=1):\n",
    "        '''\n",
    "        Backward.\n",
    "        \n",
    "        Args:\n",
    "            delta_arr:    `np.ndarray` of grads.\n",
    "        \n",
    "        Returns:\n",
    "            grads.\n",
    "        '''\n",
    "        batch_size = self.__pred_arr.shape[0]\n",
    "        dx_arr = (self.__pred_arr - self.__real_arr) / batch_size\n",
    "        return dx_arr"
   ]
  },
  {
   "cell_type": "code",
   "execution_count": 11,
   "metadata": {
    "ExecuteTime": {
     "end_time": "2020-11-08T13:58:12.196219Z",
     "start_time": "2020-11-08T13:58:12.185279Z"
    }
   },
   "outputs": [
    {
     "data": {
      "text/plain": [
       "2.6286840190004286"
      ]
     },
     "execution_count": 11,
     "metadata": {},
     "output_type": "execute_result"
    }
   ],
   "source": [
    "softmax_with_loss = SoftmaxWithCrossEntropy()\n",
    "label_arr = np.zeros((20, 10))\n",
    "label_arr[:, 0] = 1\n",
    "\n",
    "softmax_with_loss.forward(np.random.normal(size=(20, 10)), real_arr=label_arr)"
   ]
  },
  {
   "cell_type": "code",
   "execution_count": 12,
   "metadata": {
    "ExecuteTime": {
     "end_time": "2020-11-08T13:58:25.896568Z",
     "start_time": "2020-11-08T13:58:25.890584Z"
    }
   },
   "outputs": [
    {
     "data": {
      "text/plain": [
       "array([[-0.04489067,  0.02869312,  0.00108114,  0.00550907,  0.00088671,\n",
       "         0.00047268,  0.00154673,  0.00364564,  0.00158038,  0.00147519],\n",
       "       [-0.04526119,  0.00367662,  0.00652601,  0.00406665,  0.00284018,\n",
       "         0.00315073,  0.00777012,  0.00030669,  0.01561174,  0.00131246],\n",
       "       [-0.04520361,  0.00216553,  0.00154386,  0.00237114,  0.00133351,\n",
       "         0.00526934,  0.00031137,  0.02223755,  0.00874187,  0.00122945],\n",
       "       [-0.04780361,  0.01021638,  0.01340742,  0.00038215,  0.00038802,\n",
       "         0.00263455,  0.00262649,  0.01511869,  0.00234815,  0.00068177],\n",
       "       [-0.04696956,  0.00254911,  0.00096781,  0.0050582 ,  0.00234173,\n",
       "         0.00047192,  0.00209057,  0.00699826,  0.02511975,  0.00137221],\n",
       "       [-0.04690909,  0.00406779,  0.00193208,  0.0065546 ,  0.00162557,\n",
       "         0.00538604,  0.00205688,  0.00832994,  0.00281655,  0.01413963],\n",
       "       [-0.03656915,  0.00454929,  0.00014618,  0.00352623,  0.00933859,\n",
       "         0.00758685,  0.00537968,  0.00365581,  0.00138962,  0.00099689],\n",
       "       [-0.04770416,  0.022076  ,  0.00145105,  0.0041178 ,  0.0006142 ,\n",
       "         0.00166346,  0.00428225,  0.01039196,  0.0007747 ,  0.00233274],\n",
       "       [-0.04595717,  0.0076682 ,  0.0023008 ,  0.00147317,  0.00122118,\n",
       "         0.00091851,  0.00233505,  0.0009476 ,  0.00938485,  0.01970781],\n",
       "       [-0.04784552,  0.01205506,  0.00161008,  0.00491883,  0.00190602,\n",
       "         0.00150419,  0.00539106,  0.00152685,  0.01820516,  0.00072829],\n",
       "       [-0.04186582,  0.00421015,  0.00550594,  0.00292197,  0.0003336 ,\n",
       "         0.00936   ,  0.01158329,  0.00322825,  0.00319464,  0.001528  ],\n",
       "       [-0.04472938,  0.00380104,  0.00170303,  0.00556459,  0.00121765,\n",
       "         0.00571145,  0.00059566,  0.00163186,  0.00060857,  0.02389551],\n",
       "       [-0.04829132,  0.00059245,  0.00338333,  0.00298897,  0.00069967,\n",
       "         0.00191928,  0.00208921,  0.00497168,  0.0300047 ,  0.00164203],\n",
       "       [-0.0473597 ,  0.00250844,  0.00481993,  0.00428266,  0.00086634,\n",
       "         0.00525782,  0.0039557 ,  0.00374425,  0.0070147 ,  0.01490986],\n",
       "       [-0.04867184,  0.0034438 ,  0.00196944,  0.00406185,  0.00400933,\n",
       "         0.01726083,  0.00711705,  0.00061004,  0.00200482,  0.0081947 ],\n",
       "       [-0.04403619,  0.003642  ,  0.00206466,  0.01621526,  0.00099325,\n",
       "         0.0075439 ,  0.00187067,  0.00114133,  0.00848291,  0.0020822 ],\n",
       "       [-0.04670142,  0.00160726,  0.00252106,  0.00178985,  0.00467597,\n",
       "         0.00786726,  0.01192904,  0.00671809,  0.00751103,  0.00208187],\n",
       "       [-0.04469851,  0.00830645,  0.00148627,  0.00217993,  0.00636168,\n",
       "         0.0143768 ,  0.00230564,  0.00300175,  0.00185059,  0.00482942],\n",
       "       [-0.04807099,  0.00480633,  0.00089307,  0.00293998,  0.00664625,\n",
       "         0.0015691 ,  0.0077404 ,  0.00682881,  0.00333755,  0.01330951],\n",
       "       [-0.04577045,  0.00385128,  0.00032827,  0.00338289,  0.00122116,\n",
       "         0.00080223,  0.00546879,  0.02723753,  0.00334228,  0.00013602]])"
      ]
     },
     "execution_count": 12,
     "metadata": {},
     "output_type": "execute_result"
    }
   ],
   "source": [
    "softmax_with_loss.backward()"
   ]
  },
  {
   "cell_type": "code",
   "execution_count": null,
   "metadata": {},
   "outputs": [],
   "source": []
  }
 ],
 "metadata": {
  "kernelspec": {
   "display_name": "Python 3",
   "language": "python",
   "name": "python3"
  },
  "language_info": {
   "codemirror_mode": {
    "name": "ipython",
    "version": 3
   },
   "file_extension": ".py",
   "mimetype": "text/x-python",
   "name": "python",
   "nbconvert_exporter": "python",
   "pygments_lexer": "ipython3",
   "version": "3.7.6"
  }
 },
 "nbformat": 4,
 "nbformat_minor": 4
}
