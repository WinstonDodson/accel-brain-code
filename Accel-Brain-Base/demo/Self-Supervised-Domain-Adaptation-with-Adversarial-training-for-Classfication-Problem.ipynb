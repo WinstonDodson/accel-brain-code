{
 "cells": [
  {
   "cell_type": "markdown",
   "metadata": {},
   "source": [
    "# Problem Setting: Image Classification with hand-written DIGITS.\n",
    "\n",
    "This notebook demonstrates the Self-Supervised Domain Adaptation(SSDA) can learn images and discriminates its. Image dataset for this demo is the MNIST. The code of this notebook is written on the premise that the MNIST images are divided and arranged in directories for each label beforehand.\n",
    "\n",
    "Generally, the ratio between the learning data and the test data is set such that the learning data becomes large, such as `7:3`. However, in this notebook, we reverse this ratio and let the model perform training and inference on a data set adjusted by a ratio of `3:7`, in order to create so-called **dataset bias**.\n",
    "\n",
    "**Note** that the difficulty of classification and identification will not increase with this level of bias. However, this is just a demo, so this level of difficulty should be okay. In the real world, which is not limited to laboratories, there is a large amount of data that is heavily biased, so I encourage everyone to try it out with such an ugly dataset.\n",
    "\n",
    "## Problem Solution: Domain Adaptation by DRCNetworks.\n",
    "\n",
    "Deep Reconstruction-Classification Network(DRCNetworks or DRCN) is a convolutional network that jointly learns two tasks: \n",
    "    \n",
    "1. supervised source label prediction.\n",
    "2. unsupervised target data reconstruction. \n",
    "\n",
    "Ideally, a discriminative representation should model both the label and the structure of the data. Based on that intuition, Ghifary, M., et al.(2016) hypothesize that a domain-adaptive representation should satisfy two criteria:\n",
    "    \n",
    "1. classify well the source domain labeled data.\n",
    "2. reconstruct well the target domain unlabeled data, which can be viewed as an approximate of the ideal discriminative representation.\n",
    "\n",
    "The encoding parameters of the DRCNetworks are shared across both tasks, while the decoding parameters are sepa-rated. The aim is that the learned label prediction function can perform well onclassifying images in the target domain thus the data reconstruction can beviewed as an auxiliary task to support the adaptation of the label prediction.\n",
    "\n",
    "## Functional equivalent: Self-Supervised Domain Adaptation.\n",
    "\n",
    "In this problem setting, the Self-Supervised Domain Adaptation(Xu, J., Xiao, L., & López, A. M., 2019) is the functional equivalent of DRCNetworks, which can be possible to semi-supervised source label prediction but also self-supervised domain adaptation for label prediction. DRCNetworks perform reconstruction error minimization, while Self-Supervised Domain Adaptation performs optimizations designed as a pretext task like image rotation prediction problem. In this notebook, using a pretext task based on \"Region-based cropping and rotation\" as a unlabeled learning, we will demonstrate Domain Adaptation by Self-Supervised learning.\n",
    "\n",
    "### Design and implementation.\n",
    "\n",
    "Firstly, import Python modules for building Self-Supervised Domain Adaptation(SSDA)."
   ]
  },
  {
   "cell_type": "code",
   "execution_count": 1,
   "metadata": {
    "ExecuteTime": {
     "end_time": "2020-11-14T08:07:00.122585Z",
     "start_time": "2020-11-14T08:06:49.934715Z"
    }
   },
   "outputs": [],
   "source": [
    "from accelbrainbase.computableloss._mxnet.adversarial_ssda_loss import AdversarialSSDALoss\n",
    "from accelbrainbase.computableloss._mxnet.l2_norm_loss import L2NormLoss\n",
    "from accelbrainbase.extractabledata._mxnet.image_extractor import ImageExtractor\n",
    "from accelbrainbase.iteratabledata._mxnet.ssdaiterator.cropping_rotation_iterator import CroppingRotationIterator\n",
    "from accelbrainbase.noiseabledata._mxnet.gauss_noise import GaussNoise\n",
    "from accelbrainbase.controllablemodel._mxnet.adversarial_ssda_controller import AdversarialSSDAController\n",
    "from accelbrainbase.observabledata._mxnet.convolutional_neural_networks import ConvolutionalNeuralNetworks\n",
    "from accelbrainbase.observabledata._mxnet.neural_networks import NeuralNetworks"
   ]
  },
  {
   "cell_type": "code",
   "execution_count": 2,
   "metadata": {
    "ExecuteTime": {
     "end_time": "2020-11-14T08:07:00.126555Z",
     "start_time": "2020-11-14T08:07:00.123525Z"
    }
   },
   "outputs": [],
   "source": [
    "import mxnet as mx\n",
    "import mxnet.ndarray as nd\n",
    "import numpy as np\n",
    "import pandas as pd\n",
    "from mxnet.gluon.nn import Conv2D\n",
    "from mxnet.gluon.nn import Conv2DTranspose\n",
    "from mxnet.gluon.nn import BatchNorm"
   ]
  },
  {
   "cell_type": "markdown",
   "metadata": {},
   "source": [
    "If you want to observe the learning log, set `getLogger`."
   ]
  },
  {
   "cell_type": "code",
   "execution_count": 3,
   "metadata": {
    "ExecuteTime": {
     "end_time": "2020-11-14T08:07:00.133527Z",
     "start_time": "2020-11-14T08:07:00.127516Z"
    }
   },
   "outputs": [],
   "source": [
    "from logging import getLogger, StreamHandler, NullHandler, DEBUG, ERROR\n",
    "\n",
    "logger = getLogger(\"accelbrainbase\")\n",
    "handler = StreamHandler()\n",
    "handler.setLevel(DEBUG)\n",
    "logger.setLevel(DEBUG)\n",
    "logger.addHandler(handler)"
   ]
  },
  {
   "cell_type": "markdown",
   "metadata": {},
   "source": [
    "Build and initialize `ImageExtractor`, specifying parameters such as image size."
   ]
  },
  {
   "cell_type": "code",
   "execution_count": 4,
   "metadata": {
    "ExecuteTime": {
     "end_time": "2020-11-14T08:07:00.139485Z",
     "start_time": "2020-11-14T08:07:00.134499Z"
    }
   },
   "outputs": [],
   "source": [
    "image_extractor = ImageExtractor(\n",
    "    # `int` of image width.\n",
    "    width=28,\n",
    "    # `int` of image height.\n",
    "    height=28,\n",
    "    # `int` of image channel.\n",
    "    channel=1,\n",
    "    # `mx.gpu()` or `mx.cpu()`.\n",
    "    ctx=mx.gpu()\n",
    ")"
   ]
  },
  {
   "cell_type": "markdown",
   "metadata": {},
   "source": [
    "Build and initialize `CroppingRotationIterator`, delegating `image_extractor` and specifying parameters such as file path to image files."
   ]
  },
  {
   "cell_type": "code",
   "execution_count": 5,
   "metadata": {
    "ExecuteTime": {
     "end_time": "2020-11-14T08:07:00.184402Z",
     "start_time": "2020-11-14T08:07:00.141508Z"
    }
   },
   "outputs": [],
   "source": [
    "ssda_iterator = CroppingRotationIterator(\n",
    "    # is-a `ImageExtractor`.\n",
    "    image_extractor=image_extractor,\n",
    "    # `list` of paths to image files in learning.\n",
    "    dir_list=[\n",
    "        \"../../../../../Downloads/digit-recognizer/train/0/\", \n",
    "        \"../../../../../Downloads/digit-recognizer/train/1/\", \n",
    "        \"../../../../../Downloads/digit-recognizer/train/2/\", \n",
    "        \"../../../../../Downloads/digit-recognizer/train/3/\", \n",
    "        \"../../../../../Downloads/digit-recognizer/train/4/\", \n",
    "        \"../../../../../Downloads/digit-recognizer/train/5/\", \n",
    "        \"../../../../../Downloads/digit-recognizer/train/6/\", \n",
    "        \"../../../../../Downloads/digit-recognizer/train/7/\", \n",
    "        \"../../../../../Downloads/digit-recognizer/train/8/\", \n",
    "        \"../../../../../Downloads/digit-recognizer/train/9/\", \n",
    "    ],\n",
    "    # `list` of paths to image files in test.\n",
    "    test_dir_list=[\n",
    "        \"../../../../../Downloads/digit-recognizer/test/0/\", \n",
    "        \"../../../../../Downloads/digit-recognizer/test/1/\", \n",
    "        \"../../../../../Downloads/digit-recognizer/test/2/\", \n",
    "        \"../../../../../Downloads/digit-recognizer/test/3/\", \n",
    "        \"../../../../../Downloads/digit-recognizer/test/4/\", \n",
    "        \"../../../../../Downloads/digit-recognizer/test/5/\", \n",
    "        \"../../../../../Downloads/digit-recognizer/test/6/\", \n",
    "        \"../../../../../Downloads/digit-recognizer/test/7/\", \n",
    "        \"../../../../../Downloads/digit-recognizer/test/8/\", \n",
    "        \"../../../../../Downloads/digit-recognizer/test/9/\", \n",
    "    ],\n",
    "    # `list` of paths to image files in domain adaptation.\n",
    "    target_domain_dir_list=[\n",
    "        \"../../../../../Downloads/digit-recognizer/domain-adaptation/\", \n",
    "    ],\n",
    "    # `int` of epochs.\n",
    "    epochs=10,\n",
    "    # `int` of batch size.\n",
    "    batch_size=40,\n",
    "    # How to normalize pixel values of images.\n",
    "    # - `z_score`: Z-Score normalization.\n",
    "    # - `min_max`: Min-max normalization.\n",
    "    # - others : This class will not normalize the data.\n",
    "    norm_mode=\"z_score\",\n",
    "    # `float` of scaling factor for data.\n",
    "    scale=1.0,\n",
    "    # is-a `NoiseableData`.\n",
    "    noiseable_data=GaussNoise(sigma=1e-03, mu=0.0),\n",
    ")"
   ]
  },
  {
   "cell_type": "code",
   "execution_count": 6,
   "metadata": {
    "ExecuteTime": {
     "end_time": "2020-11-14T08:07:02.405816Z",
     "start_time": "2020-11-14T08:07:00.185360Z"
    }
   },
   "outputs": [
    {
     "data": {
      "image/png": "[encoded data removed]",
      "text/plain": [
       "<Figure size 432x288 with 1 Axes>"
      ]
     },
     "metadata": {
      "needs_background": "light"
     },
     "output_type": "display_data"
    },
    {
     "name": "stdout",
     "output_type": "stream",
     "text": [
      "[0. 0. 1. 0. 0. 1. 0. 0. 0. 0. 0. 1. 0. 0. 0. 1.]\n"
     ]
    }
   ],
   "source": [
    "import matplotlib.pyplot as plt\n",
    "%matplotlib inline\n",
    "\n",
    "for observed_arr, _, _, _, pretext_arr, pretext_label_arr in ssda_iterator.generate_learned_samples():\n",
    "    arr = pretext_arr[0].asnumpy()\n",
    "    label = pretext_label_arr[0].asnumpy()\n",
    "    arr = (arr - arr.min()) / (arr.max() - arr.min())\n",
    "    plt.imshow(arr[0])\n",
    "    plt.show()\n",
    "    print(label)\n",
    "    break"
   ]
  },
  {
   "cell_type": "code",
   "execution_count": 7,
   "metadata": {
    "ExecuteTime": {
     "end_time": "2020-11-14T08:07:02.803733Z",
     "start_time": "2020-11-14T08:07:02.406832Z"
    }
   },
   "outputs": [
    {
     "data": {
      "image/png": "[encoded data removed]",
      "text/plain": [
       "<Figure size 432x288 with 1 Axes>"
      ]
     },
     "metadata": {
      "needs_background": "light"
     },
     "output_type": "display_data"
    },
    {
     "data": {
      "image/png": "[encoded data removed]",
      "text/plain": [
       "<Figure size 432x288 with 1 Axes>"
      ]
     },
     "metadata": {
      "needs_background": "light"
     },
     "output_type": "display_data"
    },
    {
     "name": "stdout",
     "output_type": "stream",
     "text": [
      "[0. 0. 0. 1. 1. 0. 0. 0. 0. 1. 0. 0. 0. 0. 1. 0.]\n"
     ]
    }
   ],
   "source": [
    "import matplotlib.pyplot as plt\n",
    "%matplotlib inline\n",
    "\n",
    "for observed_arr, _, _, _, pretext_arr, pretext_label_arr in ssda_iterator.generate_learned_samples():    \n",
    "    demo_arr, demo_label = ssda_iterator.create_pretext_task_samples(observed_arr)\n",
    "    orign = observed_arr[0].asnumpy()\n",
    "    arr = demo_arr[0].asnumpy()\n",
    "    label = demo_label[0].asnumpy()\n",
    "    orign = (orign - orign.min()) / (orign.max() - orign.min())\n",
    "    arr = (arr - arr.min()) / (arr.max() - arr.min())\n",
    "    plt.imshow(orign[0])\n",
    "    plt.show()\n",
    "    plt.imshow(arr[0])\n",
    "    plt.show()\n",
    "    print(label)\n",
    "\n",
    "    break"
   ]
  },
  {
   "cell_type": "markdown",
   "metadata": {},
   "source": [
    "Build and initialize loss function."
   ]
  },
  {
   "cell_type": "code",
   "execution_count": 8,
   "metadata": {
    "ExecuteTime": {
     "end_time": "2020-11-14T08:07:02.809717Z",
     "start_time": "2020-11-14T08:07:02.805727Z"
    }
   },
   "outputs": [],
   "source": [
    "computable_loss = L2NormLoss()\n",
    "ssda_loss = AdversarialSSDALoss(\n",
    "    # Global scalar weight for total loss.\n",
    "    weight=1.0,\n",
    "    # Global scalar weight for classification loss. If `None`, this value will be equivalent to `weight`.\n",
    "    classification_weight=0.5,\n",
    "    # Global scalar weight for reconstruction loss. If `None`, this value will be equivalent to `weight`.\n",
    "    pretext_weight=1/1000, \n",
    ")"
   ]
  },
  {
   "cell_type": "markdown",
   "metadata": {},
   "source": [
    "Build and initialize `NeuralNetworks` as a classifier."
   ]
  },
  {
   "cell_type": "code",
   "execution_count": 9,
   "metadata": {
    "ExecuteTime": {
     "end_time": "2020-11-14T08:07:02.818759Z",
     "start_time": "2020-11-14T08:07:02.811712Z"
    }
   },
   "outputs": [],
   "source": [
    "classifier = NeuralNetworks(\n",
    "    # is-a `ComputableLoss` or `mxnet.gluon.loss`.\n",
    "    computable_loss=computable_loss,\n",
    "    # `list` of int` of the number of units in hidden/output layers.\n",
    "    units_list=[100, 10],\n",
    "    # `list` of act_type` in `mxnet.ndarray.Activation` or `mxnet.symbol.Activation` in input gate.\n",
    "    activation_list=[\"relu\", \"identity\"],\n",
    "    # `list` of `float` of dropout rate.\n",
    "    dropout_rate_list=[0.5, 0.0],\n",
    "    # `list` of `mxnet.gluon.nn.BatchNorm`.\n",
    "    hidden_batch_norm_list=[BatchNorm(), None],\n",
    "    # `bool` for using bias or not in output layer(last hidden layer).\n",
    "    output_no_bias_flag=True,\n",
    "    # `bool` for using bias or not in all layer.\n",
    "    all_no_bias_flag=True,\n",
    "    # Call `mxnet.gluon.HybridBlock.hybridize()` or not.\n",
    "    hybridize_flag=True,\n",
    "    # `mx.gpu()` or `mx.cpu()`.\n",
    "    ctx=mx.gpu(),\n",
    ")"
   ]
  },
  {
   "cell_type": "markdown",
   "metadata": {},
   "source": [
    "Build and initialize `ConvolutionalNeuralNetworks` as an encoder."
   ]
  },
  {
   "cell_type": "code",
   "execution_count": 10,
   "metadata": {
    "ExecuteTime": {
     "end_time": "2020-11-14T08:07:02.828667Z",
     "start_time": "2020-11-14T08:07:02.819692Z"
    }
   },
   "outputs": [],
   "source": [
    "encoder = ConvolutionalNeuralNetworks(\n",
    "    # is-a `ComputableLoss` or `mxnet.gluon.loss`.\n",
    "    computable_loss=computable_loss,\n",
    "    # `list` of int` of the number of units in hidden layers.\n",
    "    hidden_units_list=[\n",
    "        # `mxnet.gluon.nn.Conv2D`.\n",
    "        Conv2D(\n",
    "            channels=16,\n",
    "            kernel_size=6,\n",
    "            strides=(2, 2),\n",
    "            padding=(1, 1),\n",
    "        ), \n",
    "        Conv2D(\n",
    "            channels=32,\n",
    "            kernel_size=3,\n",
    "            strides=(1, 1),\n",
    "            padding=(1, 1),\n",
    "        ),\n",
    "    ],\n",
    "    # `list` of act_type` in `mxnet.ndarray.Activation` or `mxnet.symbol.Activation` in input gate.\n",
    "    hidden_activation_list=[\"relu\", \"relu\"],\n",
    "    # `list` of `float` of dropout rate.\n",
    "    hidden_dropout_rate_list=[0.0, 0.0],\n",
    "    # `list` of `mxnet.gluon.nn.BatchNorm`.\n",
    "    hidden_batch_norm_list=[BatchNorm(), BatchNorm()],\n",
    "    # Call `mxnet.gluon.HybridBlock.hybridize()` or not.\n",
    "    hybridize_flag=True,\n",
    "    # `mx.gpu()` or `mx.cpu()`.\n",
    "    ctx=mx.gpu(),\n",
    ")"
   ]
  },
  {
   "cell_type": "markdown",
   "metadata": {},
   "source": [
    "Build and initialize `NeuralNetworks` as a pretext task model."
   ]
  },
  {
   "cell_type": "code",
   "execution_count": 11,
   "metadata": {
    "ExecuteTime": {
     "end_time": "2020-11-14T08:07:02.837683Z",
     "start_time": "2020-11-14T08:07:02.830662Z"
    }
   },
   "outputs": [],
   "source": [
    "pretext_task_model = NeuralNetworks(\n",
    "    # is-a `ComputableLoss` or `mxnet.gluon.loss`.\n",
    "    computable_loss=computable_loss,\n",
    "    # `list` of int` of the number of units in hidden/output layers.\n",
    "    units_list=[100, 4*4],\n",
    "    # `list` of act_type` in `mxnet.ndarray.Activation` or `mxnet.symbol.Activation` in input gate.\n",
    "    activation_list=[\"relu\", \"identity\"],\n",
    "    # `list` of `float` of dropout rate.\n",
    "    dropout_rate_list=[0.5, 0.0],\n",
    "    # `list` of `mxnet.gluon.nn.BatchNorm`.\n",
    "    hidden_batch_norm_list=[BatchNorm(), None],\n",
    "    # `bool` for using bias or not in output layer(last hidden layer).\n",
    "    output_no_bias_flag=True,\n",
    "    # `bool` for using bias or not in all layer.\n",
    "    all_no_bias_flag=True,\n",
    "    # Call `mxnet.gluon.HybridBlock.hybridize()` or not.\n",
    "    hybridize_flag=True,\n",
    "    # `mx.gpu()` or `mx.cpu()`.\n",
    "    ctx=mx.gpu(),\n",
    ")"
   ]
  },
  {
   "cell_type": "markdown",
   "metadata": {},
   "source": [
    "Build and initialize `NeuralNetworks` as a discriminator."
   ]
  },
  {
   "cell_type": "code",
   "execution_count": 12,
   "metadata": {
    "ExecuteTime": {
     "end_time": "2020-11-14T08:07:02.845622Z",
     "start_time": "2020-11-14T08:07:02.838686Z"
    }
   },
   "outputs": [],
   "source": [
    "discriminator = NeuralNetworks(\n",
    "    # is-a `ComputableLoss` or `mxnet.gluon.loss`.\n",
    "    computable_loss=computable_loss,\n",
    "    # `list` of int` of the number of units in hidden/output layers.\n",
    "    units_list=[100, 1],\n",
    "    # `list` of act_type` in `mxnet.ndarray.Activation` or `mxnet.symbol.Activation` in input gate.\n",
    "    activation_list=[\"relu\", \"sigmoid\"],\n",
    "    # `list` of `float` of dropout rate.\n",
    "    dropout_rate_list=[0.0, 0.0],\n",
    "    # `list` of `mxnet.gluon.nn.BatchNorm`.\n",
    "    hidden_batch_norm_list=[BatchNorm(), None],\n",
    "    # `bool` for using bias or not in output layer(last hidden layer).\n",
    "    output_no_bias_flag=True,\n",
    "    # `bool` for using bias or not in all layer.\n",
    "    all_no_bias_flag=True,\n",
    "    # Call `mxnet.gluon.HybridBlock.hybridize()` or not.\n",
    "    hybridize_flag=True,\n",
    "    # `mx.gpu()` or `mx.cpu()`.\n",
    "    ctx=mx.gpu(),\n",
    ")"
   ]
  },
  {
   "cell_type": "markdown",
   "metadata": {},
   "source": [
    "Build and initialize `AdversarialSSDAController`, delegating `encoder`, `classifier`, `pretext_task_model`, and `discriminator`."
   ]
  },
  {
   "cell_type": "code",
   "execution_count": 13,
   "metadata": {
    "ExecuteTime": {
     "end_time": "2020-11-14T08:07:02.854643Z",
     "start_time": "2020-11-14T08:07:02.846619Z"
    }
   },
   "outputs": [],
   "source": [
    "SSDA = AdversarialSSDAController(\n",
    "    # is-a `ConvolutionalNeuralNetworks` or `mxnet.gluon.block.hybridblock.HybridBlock`.\n",
    "    encoder=encoder,\n",
    "    # is-a `NeuralNetworks` or `mxnet.gluon.block.hybridblock.HybridBlock`.\n",
    "    classifier=classifier,\n",
    "    # is-a `NeuralNetworks` or `mxnet.gluon.block.hybridblock.HybridBlock`.\n",
    "    pretext_task_model=pretext_task_model,\n",
    "    # is-a `NeuralNetworks` or `mxnet.gluon.block.hybridblock.HybridBlock`.\n",
    "    discriminator=discriminator,\n",
    "    # is-a `AdversarialSSDALoss`.\n",
    "    adversarial_ssda_loss=ssda_loss,\n",
    "    # is-a `mxnet.initializer` for parameters of model. If `None`, it is drawing from the Xavier distribution.\n",
    "    initializer=None,\n",
    "    # `float` of learning rate.\n",
    "    learning_rate=1e-03,\n",
    "    # `float` of attenuate the `learning_rate` by a factor of this value every `attenuate_epoch`.\n",
    "    learning_attenuate_rate=1.0,\n",
    "    # `int` of attenuate the `learning_rate` by a factor of `learning_attenuate_rate` every `attenuate_epoch`.\n",
    "    attenuate_epoch=50,\n",
    "    # `str` of name of optimizer.\n",
    "    optimizer_name=\"adam\",\n",
    "    # Call `mxnet.gluon.HybridBlock.hybridize()` or not.\n",
    "    hybridize_flag=True,\n",
    "    # `mx.gpu()` or `mx.cpu()`.\n",
    "    ctx=mx.gpu(),\n",
    ")"
   ]
  },
  {
   "cell_type": "markdown",
   "metadata": {},
   "source": [
    "Start learning."
   ]
  },
  {
   "cell_type": "code",
   "execution_count": 14,
   "metadata": {
    "ExecuteTime": {
     "end_time": "2020-11-14T08:27:45.781836Z",
     "start_time": "2020-11-14T08:07:02.855597Z"
    },
    "scrolled": true
   },
   "outputs": [
    {
     "name": "stderr",
     "output_type": "stream",
     "text": [
      "Epochs: 1 Train total loss: -0.0010600686 Test total loss: -0.0022773698\n",
      "Train classification loss: 0.089169785 Test classification loss: 0.089169785\n",
      "Pretext task loss: -0.09360158\n",
      "discriminator's loss in train: 0.002199733 discriminator's loss in test: 0.002154416\n",
      "----------------------------------------------------------------------------------------------------\n",
      "Train accuracy: 0.95 Test accuracy: 0.975\n",
      "Train infenreced label(inferenced):\n",
      "[7. 8. 8. 1. 2. 8. 3. 0. 4. 3. 2. 2. 8. 6. 5. 4. 7. 1. 5. 1. 9. 2. 0. 7.\n",
      " 2. 7. 9. 1. 3. 7. 8. 7. 7. 1. 2. 6. 4. 2. 3. 3.]\n",
      "Train infenreced label(answer):\n",
      "[7. 8. 8. 1. 2. 8. 3. 0. 4. 3. 2. 2. 8. 6. 5. 4. 7. 1. 5. 1. 9. 2. 0. 7.\n",
      " 2. 7. 9. 1. 3. 7. 8. 7. 7. 1. 2. 5. 4. 7. 3. 3.]\n",
      "Test infenreced label(inferenced):\n",
      "[7. 9. 5. 8. 3. 3. 3. 9. 6. 4. 5. 4. 3. 4. 5. 0. 0. 3. 3. 2. 9. 5. 7. 6.\n",
      " 7. 9. 4. 3. 4. 5. 9. 4. 2. 6. 8. 2. 1. 9. 7. 0.]\n",
      "Test infenreced label(answer):\n",
      "[7. 9. 5. 8. 3. 3. 3. 9. 6. 4. 5. 4. 3. 4. 5. 0. 0. 3. 3. 2. 9. 5. 7. 6.\n",
      " 7. 9. 4. 3. 4. 5. 9. 4. 0. 6. 8. 2. 1. 9. 7. 0.]\n",
      "----------------------------------------------------------------------------------------------------\n",
      "Epochs: 2 Train total loss: -0.3571883 Test total loss: -0.35622102\n",
      "Train classification loss: 0.06716597 Test classification loss: 0.06716597\n",
      "Pretext task loss: -0.42391664\n",
      "discriminator's loss in train: 0.00049558515 discriminator's loss in test: 0.0005296804\n",
      "----------------------------------------------------------------------------------------------------\n",
      "Train accuracy: 0.975 Test accuracy: 1.0\n",
      "Train infenreced label(inferenced):\n",
      "[8. 8. 2. 2. 9. 2. 9. 2. 8. 1. 6. 4. 8. 3. 3. 4. 2. 1. 7. 5. 0. 5. 2. 3.\n",
      " 8. 5. 5. 9. 3. 7. 0. 0. 2. 0. 8. 1. 1. 5. 5. 3.]\n",
      "Train infenreced label(answer):\n",
      "[8. 8. 2. 2. 9. 2. 9. 2. 8. 1. 6. 4. 8. 3. 3. 4. 2. 1. 7. 5. 0. 5. 2. 3.\n",
      " 8. 5. 5. 9. 3. 7. 0. 0. 2. 5. 8. 1. 1. 5. 5. 3.]\n",
      "Test infenreced label(inferenced):\n",
      "[5. 1. 9. 2. 7. 2. 1. 7. 7. 4. 1. 3. 3. 1. 1. 1. 5. 2. 5. 9. 1. 4. 2. 5.\n",
      " 7. 5. 5. 3. 2. 5. 8. 7. 6. 2. 5. 8. 4. 9. 1. 1.]\n",
      "Test infenreced label(answer):\n",
      "[5. 1. 9. 2. 7. 2. 1. 7. 7. 4. 1. 3. 3. 1. 1. 1. 5. 2. 5. 9. 1. 4. 2. 5.\n",
      " 7. 5. 5. 3. 2. 5. 8. 7. 6. 2. 5. 8. 4. 9. 1. 1.]\n",
      "----------------------------------------------------------------------------------------------------\n",
      "Epochs: 3 Train total loss: -0.9276161 Test total loss: -0.94368917\n",
      "Train classification loss: 0.025874222 Test classification loss: 0.025874222\n",
      "Pretext task loss: -0.96975076\n",
      "discriminator's loss in train: 0.00020163614 discriminator's loss in test: 0.00018739754\n",
      "----------------------------------------------------------------------------------------------------\n",
      "Train accuracy: 0.95 Test accuracy: 0.975\n",
      "Train infenreced label(inferenced):\n",
      "[0. 8. 9. 6. 4. 6. 5. 0. 2. 3. 4. 0. 4. 3. 9. 0. 7. 9. 0. 7. 1. 1. 9. 8.\n",
      " 3. 1. 7. 0. 1. 5. 7. 5. 8. 8. 7. 5. 9. 4. 5. 2.]\n",
      "Train infenreced label(answer):\n",
      "[0. 8. 9. 5. 4. 6. 5. 0. 2. 3. 4. 0. 4. 3. 9. 0. 7. 9. 0. 7. 1. 3. 9. 8.\n",
      " 3. 1. 7. 0. 1. 5. 7. 5. 8. 8. 7. 5. 9. 4. 5. 2.]\n",
      "Test infenreced label(inferenced):\n",
      "[3. 7. 2. 8. 2. 6. 9. 2. 1. 5. 2. 4. 6. 4. 9. 3. 5. 2. 6. 8. 0. 0. 7. 6.\n",
      " 5. 9. 2. 3. 2. 7. 6. 3. 6. 4. 3. 8. 2. 8. 4. 2.]\n",
      "Test infenreced label(answer):\n",
      "[3. 7. 2. 8. 2. 6. 9. 2. 1. 5. 2. 4. 8. 4. 9. 3. 5. 2. 6. 8. 0. 0. 7. 6.\n",
      " 5. 9. 2. 3. 2. 7. 6. 3. 6. 4. 3. 8. 2. 8. 4. 2.]\n",
      "----------------------------------------------------------------------------------------------------\n",
      "Epochs: 4 Train total loss: -1.6174176 Test total loss: -1.5971113\n",
      "Train classification loss: 0.015171525 Test classification loss: 0.015171525\n",
      "Pretext task loss: -1.6123848\n",
      "discriminator's loss in train: 0.00010256339 discriminator's loss in test: 0.00010202627\n",
      "----------------------------------------------------------------------------------------------------\n",
      "Train accuracy: 1.0 Test accuracy: 0.925\n",
      "Train infenreced label(inferenced):\n",
      "[9. 5. 8. 4. 9. 5. 9. 8. 6. 8. 5. 5. 7. 4. 8. 6. 4. 1. 6. 6. 6. 8. 7. 1.\n",
      " 1. 0. 6. 6. 3. 1. 7. 1. 2. 0. 2. 4. 8. 2. 0. 1.]\n",
      "Train infenreced label(answer):\n",
      "[9. 5. 8. 4. 9. 5. 9. 8. 6. 8. 5. 5. 7. 4. 8. 6. 4. 1. 6. 6. 6. 8. 7. 1.\n",
      " 1. 0. 6. 6. 3. 1. 7. 1. 2. 0. 2. 4. 8. 2. 0. 1.]\n",
      "Test infenreced label(inferenced):\n",
      "[1. 5. 9. 7. 1. 1. 1. 8. 3. 2. 1. 1. 3. 8. 0. 4. 3. 1. 2. 7. 0. 2. 4. 7.\n",
      " 8. 8. 8. 4. 2. 6. 8. 4. 1. 8. 2. 1. 0. 2. 5. 9.]\n",
      "Test infenreced label(answer):\n",
      "[1. 5. 9. 7. 1. 1. 1. 8. 3. 0. 1. 1. 3. 8. 0. 4. 3. 1. 2. 7. 0. 2. 4. 7.\n",
      " 8. 9. 8. 4. 2. 6. 8. 4. 1. 8. 0. 1. 0. 2. 5. 9.]\n",
      "----------------------------------------------------------------------------------------------------\n",
      "Epochs: 5 Train total loss: -2.436953 Test total loss: -2.4391685\n",
      "Train classification loss: 0.026888672 Test classification loss: 0.026888672\n",
      "Pretext task loss: -2.4661129\n",
      "discriminator's loss in train: 5.741053e-05 discriminator's loss in test: 5.565478e-05\n",
      "----------------------------------------------------------------------------------------------------\n",
      "Train accuracy: 0.975 Test accuracy: 0.95\n",
      "Train infenreced label(inferenced):\n",
      "[9. 6. 2. 7. 6. 6. 5. 4. 3. 8. 1. 1. 2. 6. 9. 7. 0. 8. 4. 8. 4. 0. 7. 7.\n",
      " 4. 4. 7. 3. 5. 0. 3. 1. 9. 9. 2. 5. 2. 7. 3. 5.]\n",
      "Train infenreced label(answer):\n",
      "[9. 6. 2. 7. 6. 6. 5. 4. 3. 8. 1. 1. 2. 6. 9. 7. 0. 8. 4. 8. 4. 0. 7. 7.\n",
      " 4. 4. 7. 5. 5. 0. 3. 1. 9. 9. 2. 5. 2. 7. 3. 5.]\n",
      "Test infenreced label(inferenced):\n",
      "[7. 9. 1. 8. 2. 2. 9. 4. 9. 4. 9. 3. 6. 8. 1. 2. 8. 5. 2. 8. 5. 1. 1. 1.\n",
      " 9. 4. 5. 0. 0. 4. 4. 9. 3. 1. 5. 3. 7. 1. 9. 7.]\n",
      "Test infenreced label(answer):\n",
      "[7. 9. 1. 8. 0. 0. 9. 4. 9. 4. 9. 3. 6. 8. 1. 2. 8. 5. 2. 8. 5. 1. 1. 1.\n",
      " 9. 4. 5. 0. 0. 4. 4. 9. 3. 1. 5. 3. 7. 1. 9. 7.]\n",
      "----------------------------------------------------------------------------------------------------\n",
      "Epochs: 6 Train total loss: -3.413259 Test total loss: -3.4350243\n",
      "Train classification loss: 0.006973439 Test classification loss: 0.006973439\n",
      "Pretext task loss: -3.4420311\n",
      "discriminator's loss in train: 3.3972417e-05 discriminator's loss in test: 3.295161e-05\n",
      "----------------------------------------------------------------------------------------------------\n",
      "Train accuracy: 1.0 Test accuracy: 0.9\n",
      "Train infenreced label(inferenced):\n",
      "[7. 0. 0. 4. 8. 0. 1. 9. 4. 0. 3. 0. 1. 3. 5. 7. 3. 8. 0. 4. 1. 6. 5. 4.\n",
      " 3. 7. 4. 5. 2. 4. 3. 0. 4. 5. 8. 2. 1. 9. 3. 8.]\n",
      "Train infenreced label(answer):\n",
      "[7. 0. 0. 4. 8. 0. 1. 9. 4. 0. 3. 0. 1. 3. 5. 7. 3. 8. 0. 4. 1. 6. 5. 4.\n",
      " 3. 7. 4. 5. 2. 4. 3. 0. 4. 5. 8. 2. 1. 9. 3. 8.]\n",
      "Test infenreced label(inferenced):\n",
      "[3. 7. 9. 7. 7. 5. 4. 6. 0. 1. 0. 7. 8. 9. 6. 3. 4. 4. 5. 8. 5. 5. 4. 4.\n",
      " 9. 6. 2. 7. 7. 5. 7. 2. 3. 1. 6. 2. 7. 6. 9. 8.]\n",
      "Test infenreced label(answer):\n",
      "[3. 7. 9. 7. 7. 5. 4. 6. 0. 1. 0. 3. 8. 8. 6. 3. 4. 4. 5. 8. 5. 5. 4. 4.\n",
      " 9. 6. 0. 7. 7. 5. 7. 0. 3. 1. 6. 2. 7. 6. 9. 8.]\n",
      "----------------------------------------------------------------------------------------------------\n",
      "Epochs: 7 Train total loss: -4.4841433 Test total loss: -4.4686217\n",
      "Train classification loss: 0.0065541505 Test classification loss: 0.0065541505\n",
      "Pretext task loss: -4.4751954\n",
      "discriminator's loss in train: 2.0267376e-05 discriminator's loss in test: 1.9312154e-05\n",
      "----------------------------------------------------------------------------------------------------\n",
      "Train accuracy: 1.0 Test accuracy: 0.9\n",
      "Train infenreced label(inferenced):\n",
      "[6. 5. 0. 6. 4. 2. 2. 5. 0. 9. 1. 2. 1. 3. 0. 2. 5. 1. 2. 6. 8. 8. 2. 5.\n",
      " 8. 6. 5. 0. 9. 7. 6. 3. 7. 3. 3. 9. 7. 0. 5. 6.]\n",
      "Train infenreced label(answer):\n",
      "[6. 5. 0. 6. 4. 2. 2. 5. 0. 9. 1. 2. 1. 3. 0. 2. 5. 1. 2. 6. 8. 8. 2. 5.\n",
      " 8. 6. 5. 0. 9. 7. 6. 3. 7. 3. 3. 9. 7. 0. 5. 6.]\n",
      "Test infenreced label(inferenced):\n",
      "[2. 1. 1. 2. 4. 3. 3. 7. 1. 1. 2. 2. 6. 2. 6. 7. 2. 9. 6. 9. 4. 4. 2. 9.\n",
      " 2. 6. 6. 8. 6. 1. 4. 4. 7. 2. 5. 7. 8. 6. 2. 2.]\n",
      "Test infenreced label(answer):\n",
      "[2. 1. 1. 2. 4. 3. 5. 7. 1. 1. 2. 2. 6. 2. 6. 7. 2. 9. 6. 9. 4. 4. 2. 9.\n",
      " 0. 6. 6. 8. 6. 1. 4. 4. 7. 2. 5. 7. 8. 6. 0. 0.]\n",
      "----------------------------------------------------------------------------------------------------\n",
      "Epochs: 8 Train total loss: -5.689968 Test total loss: -5.7008467\n",
      "Train classification loss: 0.0017783784 Test classification loss: 0.0017783784\n",
      "Pretext task loss: -5.702638\n",
      "discriminator's loss in train: 1.2746564e-05 discriminator's loss in test: 1.3195083e-05\n",
      "----------------------------------------------------------------------------------------------------\n"
     ]
    },
    {
     "name": "stderr",
     "output_type": "stream",
     "text": [
      "Train accuracy: 1.0 Test accuracy: 0.925\n",
      "Train infenreced label(inferenced):\n",
      "[4. 3. 1. 5. 9. 1. 1. 6. 1. 8. 2. 7. 8. 8. 7. 9. 9. 1. 8. 5. 8. 3. 7. 0.\n",
      " 7. 5. 5. 0. 0. 9. 4. 3. 3. 8. 1. 7. 3. 6. 3. 6.]\n",
      "Train infenreced label(answer):\n",
      "[4. 3. 1. 5. 9. 1. 1. 6. 1. 8. 2. 7. 8. 8. 7. 9. 9. 1. 8. 5. 8. 3. 7. 0.\n",
      " 7. 5. 5. 0. 0. 9. 4. 3. 3. 8. 1. 7. 3. 6. 3. 6.]\n",
      "Test infenreced label(inferenced):\n",
      "[1. 0. 0. 7. 9. 5. 2. 9. 5. 7. 5. 7. 3. 1. 4. 0. 3. 7. 7. 3. 4. 8. 6. 2.\n",
      " 2. 2. 1. 1. 5. 3. 0. 3. 3. 7. 5. 8. 5. 3. 1. 4.]\n",
      "Test infenreced label(answer):\n",
      "[1. 0. 0. 7. 9. 5. 2. 9. 5. 7. 5. 7. 3. 1. 4. 0. 3. 7. 7. 3. 4. 8. 6. 0.\n",
      " 2. 0. 1. 1. 5. 3. 0. 3. 3. 9. 5. 8. 5. 3. 1. 4.]\n",
      "----------------------------------------------------------------------------------------------------\n",
      "Epochs: 9 Train total loss: -6.9397554 Test total loss: -6.958182\n",
      "Train classification loss: 0.01221987 Test classification loss: 0.01221987\n",
      "Pretext task loss: -6.9704094\n",
      "discriminator's loss in train: 8.022826e-06 discriminator's loss in test: 8.545862e-06\n",
      "----------------------------------------------------------------------------------------------------\n",
      "Train accuracy: 0.975 Test accuracy: 1.0\n",
      "Train infenreced label(inferenced):\n",
      "[5. 3. 7. 4. 2. 8. 2. 6. 9. 5. 1. 7. 1. 9. 5. 4. 3. 0. 4. 5. 0. 3. 6. 5.\n",
      " 2. 2. 7. 1. 6. 4. 3. 3. 6. 0. 4. 7. 2. 5. 1. 2.]\n",
      "Train infenreced label(answer):\n",
      "[5. 3. 2. 4. 2. 8. 2. 6. 9. 5. 1. 7. 1. 9. 5. 4. 3. 0. 4. 5. 0. 3. 6. 5.\n",
      " 2. 2. 7. 1. 6. 4. 3. 3. 6. 0. 4. 7. 2. 5. 1. 2.]\n",
      "Test infenreced label(inferenced):\n",
      "[6. 7. 3. 7. 2. 2. 6. 8. 7. 2. 5. 9. 1. 8. 7. 2. 3. 4. 3. 1. 1. 8. 1. 7.\n",
      " 8. 7. 5. 1. 4. 0. 6. 9. 8. 4. 1. 9. 9. 3. 5. 9.]\n",
      "Test infenreced label(answer):\n",
      "[6. 7. 3. 7. 2. 2. 6. 8. 7. 2. 5. 9. 1. 8. 7. 2. 3. 4. 3. 1. 1. 8. 1. 7.\n",
      " 8. 7. 5. 1. 4. 0. 6. 9. 8. 4. 1. 9. 9. 3. 5. 9.]\n",
      "----------------------------------------------------------------------------------------------------\n",
      "Epochs: 10 Train total loss: -8.385658 Test total loss: -8.460238\n",
      "Train classification loss: 0.00043528964 Test classification loss: 0.00043528964\n",
      "Pretext task loss: -8.46068\n",
      "discriminator's loss in train: 5.371889e-06 discriminator's loss in test: 5.117074e-06\n",
      "----------------------------------------------------------------------------------------------------\n",
      "Train accuracy: 1.0 Test accuracy: 0.975\n",
      "Train infenreced label(inferenced):\n",
      "[2. 5. 6. 8. 1. 4. 4. 9. 1. 4. 2. 0. 4. 3. 7. 5. 4. 3. 1. 1. 3. 8. 3. 0.\n",
      " 0. 9. 1. 4. 4. 6. 2. 0. 6. 2. 7. 8. 2. 6. 3. 2.]\n",
      "Train infenreced label(answer):\n",
      "[2. 5. 6. 8. 1. 4. 4. 9. 1. 4. 2. 0. 4. 3. 7. 5. 4. 3. 1. 1. 3. 8. 3. 0.\n",
      " 0. 9. 1. 4. 4. 6. 2. 0. 6. 2. 7. 8. 2. 6. 3. 2.]\n",
      "Test infenreced label(inferenced):\n",
      "[0. 7. 4. 6. 8. 8. 7. 4. 7. 6. 1. 3. 2. 1. 2. 7. 6. 0. 4. 4. 2. 4. 0. 8.\n",
      " 1. 9. 9. 5. 8. 8. 7. 0. 7. 1. 2. 7. 2. 0. 4. 2.]\n",
      "Test infenreced label(answer):\n",
      "[0. 7. 4. 6. 8. 8. 7. 4. 7. 6. 1. 3. 2. 1. 2. 7. 6. 0. 4. 4. 2. 4. 0. 8.\n",
      " 1. 9. 9. 5. 8. 8. 7. 0. 7. 1. 2. 7. 0. 0. 4. 2.]\n",
      "----------------------------------------------------------------------------------------------------\n",
      "end. \n"
     ]
    }
   ],
   "source": [
    "SSDA.learn(ssda_iterator)"
   ]
  },
  {
   "cell_type": "markdown",
   "metadata": {},
   "source": [
    "Visualize losses and accuracies."
   ]
  },
  {
   "cell_type": "code",
   "execution_count": 20,
   "metadata": {
    "ExecuteTime": {
     "end_time": "2020-11-14T08:36:30.885990Z",
     "start_time": "2020-11-14T08:36:30.707189Z"
    }
   },
   "outputs": [
    {
     "data": {
      "image/png": "[encoded data removed]",
      "text/plain": [
       "<Figure size 1440x720 with 1 Axes>"
      ]
     },
     "metadata": {
      "needs_background": "light"
     },
     "output_type": "display_data"
    }
   ],
   "source": [
    "import matplotlib.pyplot as plt\n",
    "%matplotlib inline\n",
    "\n",
    "def moving_avg(arr, window=1):\n",
    "    return np.convolve(arr, np.ones(window) / window, mode='same')[window:-window]\n",
    "\n",
    "plt.figure(figsize=(20, 10))\n",
    "plt.plot(moving_avg(SSDA.loss_arr[:, 0]), label=\"Train.\")\n",
    "plt.plot(moving_avg(SSDA.loss_arr[:, 1]), label=\"Test.\")\n",
    "plt.legend()\n",
    "plt.title(\"Losses.\")\n",
    "plt.show()"
   ]
  },
  {
   "cell_type": "code",
   "execution_count": 21,
   "metadata": {
    "ExecuteTime": {
     "end_time": "2020-11-14T08:36:35.658875Z",
     "start_time": "2020-11-14T08:36:35.475372Z"
    }
   },
   "outputs": [
    {
     "data": {
      "image/png": "[encoded data removed]",
      "text/plain": [
       "<Figure size 1440x720 with 1 Axes>"
      ]
     },
     "metadata": {
      "needs_background": "light"
     },
     "output_type": "display_data"
    }
   ],
   "source": [
    "plt.figure(figsize=(20, 10))\n",
    "plt.plot(moving_avg(SSDA.acc_arr[:, 0]), label=\"Train.\")\n",
    "plt.plot(moving_avg(SSDA.acc_arr[:, 1]), label=\"Test.\")\n",
    "plt.legend()\n",
    "plt.title(\"Accuracies.\")\n",
    "plt.show()"
   ]
  },
  {
   "cell_type": "markdown",
   "metadata": {},
   "source": [
    "As a verification, let's calculate the accuracy of the test data."
   ]
  },
  {
   "cell_type": "code",
   "execution_count": 19,
   "metadata": {
    "ExecuteTime": {
     "end_time": "2020-11-14T08:35:59.971689Z",
     "start_time": "2020-11-14T08:35:52.619362Z"
    }
   },
   "outputs": [
    {
     "data": {
      "text/plain": [
       "0.9435000002384186"
      ]
     },
     "execution_count": 19,
     "metadata": {},
     "output_type": "execute_result"
    }
   ],
   "source": [
    "test_arr = None\n",
    "test_label_arr = None\n",
    "total_acc = 0.0\n",
    "i = 0\n",
    "for _, _, _test_arr, _label_test_arr, pretext_arr, pretext_label_arr in ssda_iterator.generate_learned_samples():\n",
    "    test_arr = _test_arr\n",
    "    test_label_arr = _label_test_arr\n",
    "    prob_arr = SSDA.inference(test_arr)\n",
    "    acc, _, _ = SSDA.compute_acc(prob_arr, test_label_arr)\n",
    "    total_acc += acc\n",
    "    i += 1\n",
    "    if i >= 50:\n",
    "        break\n",
    "avg_acc = total_acc / i\n",
    "avg_acc"
   ]
  },
  {
   "cell_type": "markdown",
   "metadata": {},
   "source": [
    "## For ML Ops.\n",
    "\n",
    "This model inherits [HybridBlock](https://gluon.mxnet.io/chapter07_distributed-learning/hybridize.html) from [mxnet.gluon](https://mxnet.incubator.apache.org/api/python/docs/api/gluon/index.html). Functions for common ML Ops such as saving and loading parameters are provided by [HybridBlock](https://mxnet.apache.org/api/python/docs/api/gluon/hybrid_block.html)."
   ]
  },
  {
   "cell_type": "markdown",
   "metadata": {},
   "source": [
    "# References\n",
    "\n",
    "- Ghifary, M., Kleijn, W. B., Zhang, M., Balduzzi, D., & Li, W. (2016, October). Deep reconstruction-classification networks for unsupervised domain adaptation. In European Conference on Computer Vision (pp. 597-613). Springer, Cham.\n",
    "- Xu, J., Xiao, L., & López, A. M. (2019). Self-supervised domain adaptation for computer vision tasks. IEEE Access, 7, 156694-156706., p156698."
   ]
  }
 ],
 "metadata": {
  "kernelspec": {
   "display_name": "Python 3",
   "language": "python",
   "name": "python3"
  },
  "language_info": {
   "codemirror_mode": {
    "name": "ipython",
    "version": 3
   },
   "file_extension": ".py",
   "mimetype": "text/x-python",
   "name": "python",
   "nbconvert_exporter": "python",
   "pygments_lexer": "ipython3",
   "version": "3.7.6"
  }
 },
 "nbformat": 4,
 "nbformat_minor": 2
}
