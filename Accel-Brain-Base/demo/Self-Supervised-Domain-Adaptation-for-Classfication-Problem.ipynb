{
 "cells": [
  {
   "cell_type": "markdown",
   "metadata": {},
   "source": [
    "# Problem Setting: Image Classification with hand-written DIGITS.\n",
    "\n",
    "This notebook demonstrates the Self-Supervised Domain Adaptation(SSDA) can learn images and discriminates its. Image dataset for this demo is the MNIST. The code of this notebook is written on the premise that the MNIST images are divided and arranged in directories for each label beforehand.\n",
    "\n",
    "Generally, the ratio between the learning data and the test data is set such that the learning data becomes large, such as `7:3`. However, in this notebook, we reverse this ratio and let the model perform training and inference on a data set adjusted by a ratio of `3:7`, in order to create so-called **dataset bias**.\n",
    "\n",
    "**Note** that the difficulty of classification and identification will not increase with this level of bias. However, this is just a demo, so this level of difficulty should be okay. In the real world, which is not limited to laboratories, there is a large amount of data that is heavily biased, so I encourage everyone to try it out with such an ugly dataset.\n",
    "\n",
    "## Problem Solution: Domain Adaptation by DRCNetworks.\n",
    "\n",
    "Deep Reconstruction-Classification Network(DRCNetworks or DRCN) is a convolutional network that jointly learns two tasks: \n",
    "    \n",
    "1. supervised source label prediction.\n",
    "2. unsupervised target data reconstruction. \n",
    "\n",
    "Ideally, a discriminative representation should model both the label and the structure of the data. Based on that intuition, Ghifary, M., et al.(2016) hypothesize that a domain-adaptive representation should satisfy two criteria:\n",
    "    \n",
    "1. classify well the source domain labeled data.\n",
    "2. reconstruct well the target domain unlabeled data, which can be viewed as an approximate of the ideal discriminative representation.\n",
    "\n",
    "The encoding parameters of the DRCNetworks are shared across both tasks, while the decoding parameters are sepa-rated. The aim is that the learned label prediction function can perform well onclassifying images in the target domain thus the data reconstruction can beviewed as an auxiliary task to support the adaptation of the label prediction.\n",
    "\n",
    "## Functional equivalent: Self-Supervised Domain Adaptation.\n",
    "\n",
    "In this problem setting, the Self-Supervised Domain Adaptation(Xu, J., Xiao, L., & López, A. M., 2019) is the functional equivalent of DRCNetworks, which can be possible to semi-supervised source label prediction but also self-supervised domain adaptation for label prediction. DRCNetworks perform reconstruction error minimization, while Self-Supervised Domain Adaptation performs optimizations designed as a pretext task like image rotation prediction problem. In this notebook, using a pretext task based on \"Region-based cropping and rotation\" as a unlabeled learning, we will demonstrate Domain Adaptation by Self-Supervised learning.\n",
    "\n",
    "### Design and implementation.\n",
    "\n",
    "Firstly, import Python modules for building Self-Supervised Domain Adaptation(SSDA)."
   ]
  },
  {
   "cell_type": "code",
   "execution_count": 1,
   "metadata": {
    "ExecuteTime": {
     "end_time": "2020-11-14T07:33:28.989521Z",
     "start_time": "2020-11-14T07:33:19.242061Z"
    }
   },
   "outputs": [],
   "source": [
    "from accelbrainbase.computableloss._mxnet.ssda_loss import SSDALoss\n",
    "from accelbrainbase.computableloss._mxnet.l2_norm_loss import L2NormLoss\n",
    "from accelbrainbase.extractabledata._mxnet.image_extractor import ImageExtractor\n",
    "from accelbrainbase.iteratabledata._mxnet.ssdaiterator.cropping_rotation_iterator import CroppingRotationIterator\n",
    "from accelbrainbase.noiseabledata._mxnet.gauss_noise import GaussNoise\n",
    "from accelbrainbase.controllablemodel._mxnet.ssda_controller import SSDAController\n",
    "from accelbrainbase.observabledata._mxnet.convolutional_neural_networks import ConvolutionalNeuralNetworks\n",
    "from accelbrainbase.observabledata._mxnet.neural_networks import NeuralNetworks"
   ]
  },
  {
   "cell_type": "code",
   "execution_count": 2,
   "metadata": {
    "ExecuteTime": {
     "end_time": "2020-11-14T07:33:28.995508Z",
     "start_time": "2020-11-14T07:33:28.991517Z"
    }
   },
   "outputs": [],
   "source": [
    "import mxnet as mx\n",
    "import mxnet.ndarray as nd\n",
    "import numpy as np\n",
    "import pandas as pd\n",
    "from mxnet.gluon.nn import Conv2D\n",
    "from mxnet.gluon.nn import Conv2DTranspose\n",
    "from mxnet.gluon.nn import BatchNorm"
   ]
  },
  {
   "cell_type": "markdown",
   "metadata": {},
   "source": [
    "If you want to observe the learning log, set `getLogger`."
   ]
  },
  {
   "cell_type": "code",
   "execution_count": 3,
   "metadata": {
    "ExecuteTime": {
     "end_time": "2020-11-14T07:33:29.002488Z",
     "start_time": "2020-11-14T07:33:28.997502Z"
    }
   },
   "outputs": [],
   "source": [
    "from logging import getLogger, StreamHandler, NullHandler, DEBUG, ERROR\n",
    "\n",
    "logger = getLogger(\"accelbrainbase\")\n",
    "handler = StreamHandler()\n",
    "handler.setLevel(DEBUG)\n",
    "logger.setLevel(DEBUG)\n",
    "logger.addHandler(handler)"
   ]
  },
  {
   "cell_type": "markdown",
   "metadata": {},
   "source": [
    "Build and initialize `ImageExtractor`, specifying parameters such as image size."
   ]
  },
  {
   "cell_type": "code",
   "execution_count": 4,
   "metadata": {
    "ExecuteTime": {
     "end_time": "2020-11-14T07:33:29.009468Z",
     "start_time": "2020-11-14T07:33:29.005478Z"
    }
   },
   "outputs": [],
   "source": [
    "image_extractor = ImageExtractor(\n",
    "    # `int` of image width.\n",
    "    width=28,\n",
    "    # `int` of image height.\n",
    "    height=28,\n",
    "    # `int` of image channel.\n",
    "    channel=1,\n",
    "    # `mx.gpu()` or `mx.cpu()`.\n",
    "    ctx=mx.gpu()\n",
    ")"
   ]
  },
  {
   "cell_type": "markdown",
   "metadata": {},
   "source": [
    "Build and initialize `CroppingRotationIterator`, delegating `image_extractor` and specifying parameters such as file path to image files."
   ]
  },
  {
   "cell_type": "code",
   "execution_count": 5,
   "metadata": {
    "ExecuteTime": {
     "end_time": "2020-11-14T07:33:29.064359Z",
     "start_time": "2020-11-14T07:33:29.010466Z"
    }
   },
   "outputs": [],
   "source": [
    "ssda_iterator = CroppingRotationIterator(\n",
    "    # is-a `ImageExtractor`.\n",
    "    image_extractor=image_extractor,\n",
    "    # `list` of paths to image files in learning.\n",
    "    dir_list=[\n",
    "        \"../../../../../Downloads/digit-recognizer/train/0/\", \n",
    "        \"../../../../../Downloads/digit-recognizer/train/1/\", \n",
    "        \"../../../../../Downloads/digit-recognizer/train/2/\", \n",
    "        \"../../../../../Downloads/digit-recognizer/train/3/\", \n",
    "        \"../../../../../Downloads/digit-recognizer/train/4/\", \n",
    "        \"../../../../../Downloads/digit-recognizer/train/5/\", \n",
    "        \"../../../../../Downloads/digit-recognizer/train/6/\", \n",
    "        \"../../../../../Downloads/digit-recognizer/train/7/\", \n",
    "        \"../../../../../Downloads/digit-recognizer/train/8/\", \n",
    "        \"../../../../../Downloads/digit-recognizer/train/9/\", \n",
    "    ],\n",
    "    # `list` of paths to image files in test.\n",
    "    test_dir_list=[\n",
    "        \"../../../../../Downloads/digit-recognizer/test/0/\", \n",
    "        \"../../../../../Downloads/digit-recognizer/test/1/\", \n",
    "        \"../../../../../Downloads/digit-recognizer/test/2/\", \n",
    "        \"../../../../../Downloads/digit-recognizer/test/3/\", \n",
    "        \"../../../../../Downloads/digit-recognizer/test/4/\", \n",
    "        \"../../../../../Downloads/digit-recognizer/test/5/\", \n",
    "        \"../../../../../Downloads/digit-recognizer/test/6/\", \n",
    "        \"../../../../../Downloads/digit-recognizer/test/7/\", \n",
    "        \"../../../../../Downloads/digit-recognizer/test/8/\", \n",
    "        \"../../../../../Downloads/digit-recognizer/test/9/\", \n",
    "    ],\n",
    "    # `list` of paths to image files in domain adaptation.\n",
    "    target_domain_dir_list=[\n",
    "        \"../../../../../Downloads/digit-recognizer/domain-adaptation/\", \n",
    "    ],\n",
    "    # `int` of epochs.\n",
    "    epochs=10,\n",
    "    # `int` of batch size.\n",
    "    batch_size=40,\n",
    "    # How to normalize pixel values of images.\n",
    "    # - `z_score`: Z-Score normalization.\n",
    "    # - `min_max`: Min-max normalization.\n",
    "    # - others : This class will not normalize the data.\n",
    "    norm_mode=\"z_score\",\n",
    "    # `float` of scaling factor for data.\n",
    "    scale=1.0,\n",
    "    # is-a `NoiseableData`.\n",
    "    noiseable_data=GaussNoise(sigma=1e-03, mu=0.0),\n",
    ")"
   ]
  },
  {
   "cell_type": "code",
   "execution_count": 6,
   "metadata": {
    "ExecuteTime": {
     "end_time": "2020-11-14T07:33:31.750925Z",
     "start_time": "2020-11-14T07:33:29.065354Z"
    }
   },
   "outputs": [
    {
     "data": {
      "image/png": "[encoded data removed]",
      "text/plain": [
       "<Figure size 432x288 with 1 Axes>"
      ]
     },
     "metadata": {
      "needs_background": "light"
     },
     "output_type": "display_data"
    },
    {
     "name": "stdout",
     "output_type": "stream",
     "text": [
      "[0. 0. 1. 0. 0. 0. 0. 1. 0. 1. 0. 0. 0. 1. 0. 0.]\n"
     ]
    }
   ],
   "source": [
    "import matplotlib.pyplot as plt\n",
    "%matplotlib inline\n",
    "\n",
    "for observed_arr, _, _, _, pretext_arr, pretext_label_arr in ssda_iterator.generate_learned_samples():\n",
    "    arr = pretext_arr[0].asnumpy()\n",
    "    label = pretext_label_arr[0].asnumpy()\n",
    "    arr = (arr - arr.min()) / (arr.max() - arr.min())\n",
    "    plt.imshow(arr[0])\n",
    "    plt.show()\n",
    "    print(label)\n",
    "    break"
   ]
  },
  {
   "cell_type": "code",
   "execution_count": 7,
   "metadata": {
    "ExecuteTime": {
     "end_time": "2020-11-14T07:33:32.181811Z",
     "start_time": "2020-11-14T07:33:31.751921Z"
    }
   },
   "outputs": [
    {
     "data": {
      "image/png": "[encoded data removed]",
      "text/plain": [
       "<Figure size 432x288 with 1 Axes>"
      ]
     },
     "metadata": {
      "needs_background": "light"
     },
     "output_type": "display_data"
    },
    {
     "data": {
      "image/png": "[encoded data removed]",
      "text/plain": [
       "<Figure size 432x288 with 1 Axes>"
      ]
     },
     "metadata": {
      "needs_background": "light"
     },
     "output_type": "display_data"
    },
    {
     "name": "stdout",
     "output_type": "stream",
     "text": [
      "[0. 0. 1. 0. 0. 0. 1. 0. 0. 1. 0. 0. 0. 0. 1. 0.]\n"
     ]
    }
   ],
   "source": [
    "import matplotlib.pyplot as plt\n",
    "%matplotlib inline\n",
    "\n",
    "for observed_arr, _, _, _, pretext_arr, pretext_label_arr in ssda_iterator.generate_learned_samples():    \n",
    "    demo_arr, demo_label = ssda_iterator.create_pretext_task_samples(observed_arr)\n",
    "    orign = observed_arr[0].asnumpy()\n",
    "    arr = demo_arr[0].asnumpy()\n",
    "    label = demo_label[0].asnumpy()\n",
    "    orign = (orign - orign.min()) / (orign.max() - orign.min())\n",
    "    arr = (arr - arr.min()) / (arr.max() - arr.min())\n",
    "    plt.imshow(orign[0])\n",
    "    plt.show()\n",
    "    plt.imshow(arr[0])\n",
    "    plt.show()\n",
    "    print(label)\n",
    "\n",
    "    break"
   ]
  },
  {
   "cell_type": "markdown",
   "metadata": {},
   "source": [
    "Build and initialize loss function."
   ]
  },
  {
   "cell_type": "code",
   "execution_count": 8,
   "metadata": {
    "ExecuteTime": {
     "end_time": "2020-11-14T07:33:32.187792Z",
     "start_time": "2020-11-14T07:33:32.183766Z"
    }
   },
   "outputs": [],
   "source": [
    "computable_loss = L2NormLoss()\n",
    "ssda_loss = SSDALoss(\n",
    "    # Global scalar weight for total loss.\n",
    "    weight=1.0,\n",
    "    # Global scalar weight for classification loss. If `None`, this value will be equivalent to `weight`.\n",
    "    classification_weight=0.5,\n",
    "    # Global scalar weight for reconstruction loss. If `None`, this value will be equivalent to `weight`.\n",
    "    pretext_weight=1/1000, \n",
    ")"
   ]
  },
  {
   "cell_type": "markdown",
   "metadata": {},
   "source": [
    "Build and initialize `NeuralNetworks` as a classifier."
   ]
  },
  {
   "cell_type": "code",
   "execution_count": 9,
   "metadata": {
    "ExecuteTime": {
     "end_time": "2020-11-14T07:33:32.196730Z",
     "start_time": "2020-11-14T07:33:32.188752Z"
    }
   },
   "outputs": [],
   "source": [
    "classifier = NeuralNetworks(\n",
    "    # is-a `ComputableLoss` or `mxnet.gluon.loss`.\n",
    "    computable_loss=computable_loss,\n",
    "    # `list` of int` of the number of units in hidden/output layers.\n",
    "    units_list=[100, 10],\n",
    "    # `list` of act_type` in `mxnet.ndarray.Activation` or `mxnet.symbol.Activation` in input gate.\n",
    "    activation_list=[\"relu\", \"identity\"],\n",
    "    # `list` of `float` of dropout rate.\n",
    "    dropout_rate_list=[0.5, 0.0],\n",
    "    # `list` of `mxnet.gluon.nn.BatchNorm`.\n",
    "    hidden_batch_norm_list=[BatchNorm(), None],\n",
    "    # `bool` for using bias or not in output layer(last hidden layer).\n",
    "    output_no_bias_flag=True,\n",
    "    # `bool` for using bias or not in all layer.\n",
    "    all_no_bias_flag=True,\n",
    "    # Call `mxnet.gluon.HybridBlock.hybridize()` or not.\n",
    "    hybridize_flag=True,\n",
    "    # `mx.gpu()` or `mx.cpu()`.\n",
    "    ctx=mx.gpu(),\n",
    ")"
   ]
  },
  {
   "cell_type": "markdown",
   "metadata": {},
   "source": [
    "Build and initialize `ConvolutionalNeuralNetworks` as an encoder."
   ]
  },
  {
   "cell_type": "code",
   "execution_count": 10,
   "metadata": {
    "ExecuteTime": {
     "end_time": "2020-11-14T07:33:32.205736Z",
     "start_time": "2020-11-14T07:33:32.197728Z"
    }
   },
   "outputs": [],
   "source": [
    "encoder = ConvolutionalNeuralNetworks(\n",
    "    # is-a `ComputableLoss` or `mxnet.gluon.loss`.\n",
    "    computable_loss=computable_loss,\n",
    "    # `list` of int` of the number of units in hidden layers.\n",
    "    hidden_units_list=[\n",
    "        # `mxnet.gluon.nn.Conv2D`.\n",
    "        Conv2D(\n",
    "            channels=16,\n",
    "            kernel_size=6,\n",
    "            strides=(2, 2),\n",
    "            padding=(1, 1),\n",
    "        ), \n",
    "        Conv2D(\n",
    "            channels=32,\n",
    "            kernel_size=3,\n",
    "            strides=(1, 1),\n",
    "            padding=(1, 1),\n",
    "        ),\n",
    "    ],\n",
    "    # `list` of act_type` in `mxnet.ndarray.Activation` or `mxnet.symbol.Activation` in input gate.\n",
    "    hidden_activation_list=[\"relu\", \"relu\"],\n",
    "    # `list` of `float` of dropout rate.\n",
    "    hidden_dropout_rate_list=[0.0, 0.0],\n",
    "    # `list` of `mxnet.gluon.nn.BatchNorm`.\n",
    "    hidden_batch_norm_list=[BatchNorm(), BatchNorm()],\n",
    "    # Call `mxnet.gluon.HybridBlock.hybridize()` or not.\n",
    "    hybridize_flag=True,\n",
    "    # `mx.gpu()` or `mx.cpu()`.\n",
    "    ctx=mx.gpu(),\n",
    ")"
   ]
  },
  {
   "cell_type": "markdown",
   "metadata": {},
   "source": [
    "Build and initialize `NeuralNetworks` as a pretext task model."
   ]
  },
  {
   "cell_type": "code",
   "execution_count": 11,
   "metadata": {
    "ExecuteTime": {
     "end_time": "2020-11-14T07:33:32.211690Z",
     "start_time": "2020-11-14T07:33:32.206704Z"
    }
   },
   "outputs": [],
   "source": [
    "pretext_task_model = NeuralNetworks(\n",
    "    # is-a `ComputableLoss` or `mxnet.gluon.loss`.\n",
    "    computable_loss=computable_loss,\n",
    "    # `list` of int` of the number of units in hidden/output layers.\n",
    "    units_list=[100, 4*4],\n",
    "    # `list` of act_type` in `mxnet.ndarray.Activation` or `mxnet.symbol.Activation` in input gate.\n",
    "    activation_list=[\"relu\", \"identity\"],\n",
    "    # `list` of `float` of dropout rate.\n",
    "    dropout_rate_list=[0.5, 0.0],\n",
    "    # `list` of `mxnet.gluon.nn.BatchNorm`.\n",
    "    hidden_batch_norm_list=[BatchNorm(), None],\n",
    "    # `bool` for using bias or not in output layer(last hidden layer).\n",
    "    output_no_bias_flag=True,\n",
    "    # `bool` for using bias or not in all layer.\n",
    "    all_no_bias_flag=True,\n",
    "    # Call `mxnet.gluon.HybridBlock.hybridize()` or not.\n",
    "    hybridize_flag=True,\n",
    "    # `mx.gpu()` or `mx.cpu()`.\n",
    "    ctx=mx.gpu(),\n",
    ")"
   ]
  },
  {
   "cell_type": "markdown",
   "metadata": {},
   "source": [
    "Build and initialize `SSDAController`, delegating `encoder`, `classifier`, and `pretext_task_model`."
   ]
  },
  {
   "cell_type": "code",
   "execution_count": 12,
   "metadata": {
    "ExecuteTime": {
     "end_time": "2020-11-14T07:33:32.220692Z",
     "start_time": "2020-11-14T07:33:32.212687Z"
    }
   },
   "outputs": [],
   "source": [
    "SSDA = SSDAController(\n",
    "    # is-a `ConvolutionalNeuralNetworks` or `mxnet.gluon.block.hybridblock.HybridBlock`.\n",
    "    encoder=encoder,\n",
    "    # is-a `NeuralNetworks` or `mxnet.gluon.block.hybridblock.HybridBlock`.\n",
    "    classifier=classifier,\n",
    "    # is-a `NeuralNetworks` or `mxnet.gluon.block.hybridblock.HybridBlock`.\n",
    "    pretext_task_model=pretext_task_model,\n",
    "    # is-a `SSDALoss`.\n",
    "    ssda_loss=ssda_loss,\n",
    "    # is-a `mxnet.initializer` for parameters of model. If `None`, it is drawing from the Xavier distribution.\n",
    "    initializer=None,\n",
    "    # `float` of learning rate.\n",
    "    learning_rate=1e-03,\n",
    "    # `float` of attenuate the `learning_rate` by a factor of this value every `attenuate_epoch`.\n",
    "    learning_attenuate_rate=1.0,\n",
    "    # `int` of attenuate the `learning_rate` by a factor of `learning_attenuate_rate` every `attenuate_epoch`.\n",
    "    attenuate_epoch=50,\n",
    "    # `str` of name of optimizer.\n",
    "    optimizer_name=\"adam\",\n",
    "    # Call `mxnet.gluon.HybridBlock.hybridize()` or not.\n",
    "    hybridize_flag=True,\n",
    "    # `mx.gpu()` or `mx.cpu()`.\n",
    "    ctx=mx.gpu(),\n",
    ")"
   ]
  },
  {
   "cell_type": "markdown",
   "metadata": {},
   "source": [
    "Start learning."
   ]
  },
  {
   "cell_type": "code",
   "execution_count": 13,
   "metadata": {
    "ExecuteTime": {
     "end_time": "2020-11-14T07:54:23.688808Z",
     "start_time": "2020-11-14T07:33:32.221665Z"
    },
    "scrolled": true
   },
   "outputs": [
    {
     "name": "stderr",
     "output_type": "stream",
     "text": [
      "Epochs: 1 Train total loss: 0.05896602 Test total loss: 0.0585059\n",
      "Train classification loss: 0.14781749 Test classification loss: 0.14781749\n",
      "Pretext task loss: -0.089311585\n",
      "----------------------------------------------------------------------------------------------------\n",
      "Train accuracy: 0.925 Test accuracy: 0.95\n",
      "Train infenreced label(inferenced):\n",
      "[5. 3. 0. 8. 5. 9. 4. 5. 6. 5. 0. 5. 3. 9. 3. 8. 4. 4. 4. 3. 0. 3. 6. 2.\n",
      " 3. 6. 4. 9. 1. 6. 4. 1. 0. 3. 8. 9. 7. 5. 1. 4.]\n",
      "Train infenreced label(answer):\n",
      "[5. 3. 0. 8. 5. 9. 4. 5. 6. 5. 0. 3. 3. 9. 3. 8. 4. 9. 4. 3. 0. 3. 6. 2.\n",
      " 3. 4. 4. 9. 1. 6. 4. 1. 0. 3. 8. 9. 7. 5. 1. 4.]\n",
      "Test infenreced label(inferenced):\n",
      "[2. 5. 9. 7. 6. 1. 1. 5. 7. 9. 1. 9. 5. 9. 6. 7. 9. 0. 8. 6. 6. 9. 2. 3.\n",
      " 0. 2. 4. 8. 3. 2. 4. 8. 8. 7. 5. 9. 1. 5. 8. 7.]\n",
      "Test infenreced label(answer):\n",
      "[2. 5. 9. 7. 6. 1. 1. 5. 7. 9. 1. 9. 5. 9. 6. 7. 9. 0. 8. 6. 6. 9. 2. 3.\n",
      " 0. 0. 4. 8. 3. 0. 4. 8. 8. 7. 5. 9. 1. 5. 8. 7.]\n",
      "----------------------------------------------------------------------------------------------------\n",
      "Epochs: 2 Train total loss: -0.33740312 Test total loss: -0.3365648\n",
      "Train classification loss: 0.07999738 Test classification loss: 0.07999738\n",
      "Pretext task loss: -0.41656217\n",
      "----------------------------------------------------------------------------------------------------\n",
      "Train accuracy: 0.95 Test accuracy: 0.875\n",
      "Train infenreced label(inferenced):\n",
      "[2. 9. 4. 9. 3. 1. 2. 5. 7. 7. 6. 9. 9. 6. 3. 3. 8. 6. 5. 5. 6. 8. 0. 6.\n",
      " 3. 4. 7. 5. 5. 6. 5. 1. 7. 5. 8. 6. 8. 6. 7. 2.]\n",
      "Train infenreced label(answer):\n",
      "[2. 9. 4. 9. 3. 1. 3. 5. 7. 7. 5. 9. 9. 6. 3. 3. 8. 6. 5. 5. 6. 8. 0. 6.\n",
      " 3. 4. 7. 5. 5. 6. 5. 1. 7. 5. 8. 6. 8. 6. 7. 2.]\n",
      "Test infenreced label(inferenced):\n",
      "[7. 2. 7. 3. 8. 2. 6. 6. 2. 5. 8. 2. 5. 2. 9. 2. 8. 2. 5. 7. 2. 2. 8. 3.\n",
      " 5. 4. 8. 9. 2. 5. 8. 7. 5. 6. 3. 3. 8. 4. 2. 5.]\n",
      "Test infenreced label(answer):\n",
      "[7. 0. 7. 3. 8. 2. 6. 6. 2. 5. 8. 2. 5. 3. 9. 2. 8. 2. 5. 9. 0. 0. 8. 3.\n",
      " 5. 4. 8. 9. 2. 5. 8. 7. 5. 6. 3. 3. 8. 4. 2. 5.]\n",
      "----------------------------------------------------------------------------------------------------\n",
      "Epochs: 3 Train total loss: -0.9287688 Test total loss: -0.9216286\n",
      "Train classification loss: 0.0124181565 Test classification loss: 0.0124181565\n",
      "Pretext task loss: -0.93404675\n",
      "----------------------------------------------------------------------------------------------------\n",
      "Train accuracy: 1.0 Test accuracy: 0.975\n",
      "Train infenreced label(inferenced):\n",
      "[1. 3. 3. 4. 1. 7. 5. 6. 3. 2. 9. 1. 9. 5. 9. 3. 8. 1. 3. 8. 2. 1. 7. 8.\n",
      " 4. 4. 7. 4. 1. 7. 1. 2. 9. 9. 1. 6. 6. 3. 5. 2.]\n",
      "Train infenreced label(answer):\n",
      "[1. 3. 3. 4. 1. 7. 5. 6. 3. 2. 9. 1. 9. 5. 9. 3. 8. 1. 3. 8. 2. 1. 7. 8.\n",
      " 4. 4. 7. 4. 1. 7. 1. 2. 9. 9. 1. 6. 6. 3. 5. 2.]\n",
      "Test infenreced label(inferenced):\n",
      "[7. 2. 8. 6. 1. 1. 8. 9. 9. 7. 7. 7. 5. 4. 5. 3. 7. 2. 1. 1. 5. 0. 0. 4.\n",
      " 2. 9. 5. 7. 5. 7. 9. 2. 2. 3. 1. 0. 2. 7. 2. 4.]\n",
      "Test infenreced label(answer):\n",
      "[7. 2. 8. 6. 1. 1. 8. 9. 9. 7. 7. 7. 5. 4. 5. 3. 7. 2. 1. 1. 5. 0. 0. 4.\n",
      " 2. 9. 5. 7. 5. 7. 9. 2. 2. 3. 1. 0. 0. 7. 2. 4.]\n",
      "----------------------------------------------------------------------------------------------------\n",
      "Epochs: 4 Train total loss: -1.6023318 Test total loss: -1.5787578\n",
      "Train classification loss: 0.022368366 Test classification loss: 0.022368366\n",
      "Pretext task loss: -1.6011261\n",
      "----------------------------------------------------------------------------------------------------\n",
      "Train accuracy: 0.975 Test accuracy: 0.95\n",
      "Train infenreced label(inferenced):\n",
      "[9. 8. 8. 4. 1. 3. 1. 9. 3. 4. 9. 2. 9. 7. 6. 8. 6. 7. 3. 4. 0. 3. 1. 6.\n",
      " 9. 3. 1. 7. 7. 9. 8. 8. 8. 0. 9. 9. 9. 4. 9. 2.]\n",
      "Train infenreced label(answer):\n",
      "[9. 8. 8. 4. 1. 8. 1. 9. 3. 4. 9. 2. 9. 7. 6. 8. 6. 7. 3. 4. 0. 3. 1. 6.\n",
      " 9. 3. 1. 7. 7. 9. 8. 8. 8. 0. 9. 9. 9. 4. 9. 2.]\n",
      "Test infenreced label(inferenced):\n",
      "[1. 8. 3. 0. 2. 1. 9. 3. 3. 8. 3. 9. 6. 9. 9. 6. 8. 2. 1. 8. 0. 7. 2. 2.\n",
      " 7. 2. 4. 9. 6. 0. 8. 5. 2. 5. 2. 1. 6. 9. 8. 6.]\n",
      "Test infenreced label(answer):\n",
      "[1. 8. 3. 0. 2. 1. 9. 3. 3. 8. 3. 9. 6. 9. 9. 6. 8. 2. 1. 8. 0. 7. 0. 2.\n",
      " 7. 0. 4. 9. 6. 0. 8. 5. 2. 5. 2. 1. 6. 9. 8. 6.]\n",
      "----------------------------------------------------------------------------------------------------\n",
      "Epochs: 5 Train total loss: -2.4195757 Test total loss: -2.46765\n",
      "Train classification loss: 0.041678276 Test classification loss: 0.041678276\n",
      "Pretext task loss: -2.5093284\n",
      "----------------------------------------------------------------------------------------------------\n",
      "Train accuracy: 0.95 Test accuracy: 0.925\n",
      "Train infenreced label(inferenced):\n",
      "[0. 2. 3. 0. 1. 2. 6. 1. 7. 7. 3. 9. 8. 8. 1. 2. 5. 2. 2. 9. 8. 7. 2. 8.\n",
      " 6. 8. 6. 2. 9. 2. 5. 2. 9. 5. 9. 5. 3. 2. 5. 6.]\n",
      "Train infenreced label(answer):\n",
      "[0. 2. 3. 0. 1. 2. 6. 1. 7. 7. 3. 9. 8. 8. 1. 2. 5. 2. 2. 9. 8. 7. 2. 8.\n",
      " 6. 8. 6. 2. 8. 2. 5. 2. 9. 5. 9. 5. 2. 2. 5. 6.]\n",
      "Test infenreced label(inferenced):\n",
      "[0. 1. 2. 6. 2. 5. 1. 3. 1. 4. 2. 8. 9. 3. 9. 8. 6. 1. 7. 6. 6. 2. 7. 1.\n",
      " 1. 2. 7. 1. 1. 1. 2. 8. 1. 2. 2. 2. 7. 5. 3. 0.]\n",
      "Test infenreced label(answer):\n",
      "[0. 1. 2. 6. 2. 5. 1. 3. 1. 4. 2. 8. 9. 3. 9. 8. 6. 4. 7. 6. 6. 2. 7. 1.\n",
      " 1. 2. 7. 1. 1. 1. 2. 8. 1. 2. 0. 0. 7. 5. 3. 0.]\n",
      "----------------------------------------------------------------------------------------------------\n",
      "Epochs: 6 Train total loss: -3.389672 Test total loss: -3.3810127\n",
      "Train classification loss: 0.009591291 Test classification loss: 0.009591291\n",
      "Pretext task loss: -3.3906035\n",
      "----------------------------------------------------------------------------------------------------\n",
      "Train accuracy: 1.0 Test accuracy: 0.875\n",
      "Train infenreced label(inferenced):\n",
      "[5. 3. 6. 3. 5. 4. 6. 8. 5. 2. 9. 5. 9. 2. 0. 3. 8. 3. 6. 7. 4. 5. 3. 2.\n",
      " 6. 0. 6. 5. 2. 2. 2. 2. 8. 4. 3. 7. 5. 4. 8. 9.]\n",
      "Train infenreced label(answer):\n",
      "[5. 3. 6. 3. 5. 4. 6. 8. 5. 2. 9. 5. 9. 2. 0. 3. 8. 3. 6. 7. 4. 5. 3. 2.\n",
      " 6. 0. 6. 5. 2. 2. 2. 2. 8. 4. 3. 7. 5. 4. 8. 9.]\n",
      "Test infenreced label(inferenced):\n",
      "[3. 6. 2. 8. 3. 0. 2. 5. 1. 9. 4. 4. 9. 1. 2. 4. 5. 2. 2. 0. 2. 5. 0. 5.\n",
      " 2. 4. 6. 6. 4. 5. 4. 2. 3. 2. 4. 9. 8. 3. 4. 5.]\n",
      "Test infenreced label(answer):\n",
      "[3. 6. 2. 8. 3. 0. 0. 5. 1. 9. 4. 4. 9. 1. 0. 4. 5. 0. 2. 0. 2. 5. 0. 5.\n",
      " 0. 4. 6. 6. 4. 5. 4. 2. 3. 0. 4. 9. 8. 3. 4. 5.]\n",
      "----------------------------------------------------------------------------------------------------\n",
      "Epochs: 7 Train total loss: -4.486688 Test total loss: -4.5527787\n",
      "Train classification loss: 0.0026131235 Test classification loss: 0.0026131235\n",
      "Pretext task loss: -4.555392\n",
      "----------------------------------------------------------------------------------------------------\n",
      "Train accuracy: 1.0 Test accuracy: 0.925\n",
      "Train infenreced label(inferenced):\n",
      "[9. 1. 4. 7. 5. 2. 0. 4. 5. 4. 4. 4. 2. 6. 1. 2. 4. 1. 5. 3. 3. 7. 2. 9.\n",
      " 4. 9. 2. 4. 4. 2. 7. 0. 8. 4. 1. 1. 9. 5. 3. 5.]\n",
      "Train infenreced label(answer):\n",
      "[9. 1. 4. 7. 5. 2. 0. 4. 5. 4. 4. 4. 2. 6. 1. 2. 4. 1. 5. 3. 3. 7. 2. 9.\n",
      " 4. 9. 2. 4. 4. 2. 7. 0. 8. 4. 1. 1. 9. 5. 3. 5.]\n",
      "Test infenreced label(inferenced):\n",
      "[0. 2. 7. 3. 4. 7. 2. 8. 5. 8. 4. 5. 5. 3. 3. 7. 9. 5. 7. 9. 5. 1. 0. 0.\n",
      " 2. 1. 6. 0. 6. 7. 4. 2. 4. 7. 5. 2. 3. 5. 4. 7.]\n",
      "Test infenreced label(answer):\n",
      "[0. 0. 7. 3. 4. 7. 2. 8. 5. 8. 4. 5. 3. 3. 3. 7. 9. 5. 7. 9. 5. 1. 0. 0.\n",
      " 2. 1. 6. 0. 6. 7. 4. 0. 4. 7. 5. 2. 3. 5. 4. 7.]\n",
      "----------------------------------------------------------------------------------------------------\n",
      "Epochs: 8 Train total loss: -5.663959 Test total loss: -5.619465\n",
      "Train classification loss: 0.0030008524 Test classification loss: 0.0030008524\n",
      "Pretext task loss: -5.6224656\n",
      "----------------------------------------------------------------------------------------------------\n",
      "Train accuracy: 1.0 Test accuracy: 0.875\n",
      "Train infenreced label(inferenced):\n",
      "[2. 9. 5. 4. 5. 3. 0. 9. 9. 2. 6. 7. 5. 2. 6. 1. 1. 6. 0. 4. 1. 4. 4. 1.\n",
      " 3. 3. 7. 5. 1. 4. 2. 3. 8. 4. 5. 6. 0. 7. 5. 9.]\n",
      "Train infenreced label(answer):\n",
      "[2. 9. 5. 4. 5. 3. 0. 9. 9. 2. 6. 7. 5. 2. 6. 1. 1. 6. 0. 4. 1. 4. 4. 1.\n",
      " 3. 3. 7. 5. 1. 4. 2. 3. 8. 4. 5. 6. 0. 7. 5. 9.]\n",
      "Test infenreced label(inferenced):\n",
      "[4. 2. 1. 7. 9. 0. 6. 6. 4. 4. 6. 2. 3. 2. 9. 5. 6. 7. 8. 2. 2. 4. 5. 2.\n",
      " 1. 3. 4. 3. 7. 5. 3. 7. 0. 7. 5. 9. 4. 7. 3. 6.]\n",
      "Test infenreced label(answer):\n",
      "[4. 0. 1. 7. 9. 0. 6. 6. 4. 4. 6. 0. 3. 0. 9. 5. 6. 7. 8. 0. 0. 4. 5. 2.\n",
      " 1. 3. 4. 3. 7. 5. 3. 7. 0. 7. 5. 9. 4. 7. 3. 6.]\n"
     ]
    },
    {
     "name": "stderr",
     "output_type": "stream",
     "text": [
      "----------------------------------------------------------------------------------------------------\n",
      "Epochs: 9 Train total loss: -6.9402113 Test total loss: -6.8921165\n",
      "Train classification loss: 0.038261753 Test classification loss: 0.038261753\n",
      "Pretext task loss: -6.930377\n",
      "----------------------------------------------------------------------------------------------------\n",
      "Train accuracy: 0.975 Test accuracy: 0.975\n",
      "Train infenreced label(inferenced):\n",
      "[6. 0. 8. 6. 0. 7. 5. 1. 7. 6. 3. 3. 5. 6. 4. 1. 4. 1. 6. 8. 9. 7. 9. 0.\n",
      " 1. 0. 3. 7. 1. 4. 2. 7. 7. 4. 1. 0. 4. 7. 8. 2.]\n",
      "Train infenreced label(answer):\n",
      "[6. 0. 8. 6. 0. 7. 5. 1. 7. 6. 3. 3. 5. 6. 4. 1. 4. 1. 6. 8. 7. 7. 9. 0.\n",
      " 1. 0. 3. 7. 1. 4. 2. 7. 7. 4. 1. 0. 4. 7. 8. 2.]\n",
      "Test infenreced label(inferenced):\n",
      "[2. 6. 5. 2. 6. 8. 3. 7. 7. 3. 2. 1. 0. 0. 2. 3. 2. 5. 4. 8. 1. 5. 6. 6.\n",
      " 2. 6. 3. 0. 1. 1. 4. 1. 5. 7. 2. 2. 2. 9. 3. 3.]\n",
      "Test infenreced label(answer):\n",
      "[2. 6. 5. 2. 6. 8. 3. 7. 7. 3. 2. 1. 0. 0. 2. 3. 2. 5. 4. 8. 1. 5. 6. 6.\n",
      " 2. 6. 3. 0. 1. 1. 4. 1. 5. 7. 0. 2. 2. 9. 3. 3.]\n",
      "----------------------------------------------------------------------------------------------------\n",
      "Epochs: 10 Train total loss: -8.381845 Test total loss: -8.3294325\n",
      "Train classification loss: 0.0007233809 Test classification loss: 0.0007233809\n",
      "Pretext task loss: -8.330156\n",
      "----------------------------------------------------------------------------------------------------\n",
      "Train accuracy: 1.0 Test accuracy: 0.95\n",
      "Train infenreced label(inferenced):\n",
      "[2. 9. 7. 0. 0. 4. 4. 1. 1. 9. 3. 9. 5. 7. 4. 1. 1. 9. 8. 3. 7. 3. 3. 6.\n",
      " 6. 3. 2. 0. 7. 2. 8. 7. 0. 4. 8. 9. 9. 6. 8. 0.]\n",
      "Train infenreced label(answer):\n",
      "[2. 9. 7. 0. 0. 4. 4. 1. 1. 9. 3. 9. 5. 7. 4. 1. 1. 9. 8. 3. 7. 3. 3. 6.\n",
      " 6. 3. 2. 0. 7. 2. 8. 7. 0. 4. 8. 9. 9. 6. 8. 0.]\n",
      "Test infenreced label(inferenced):\n",
      "[9. 2. 1. 4. 1. 6. 7. 9. 6. 3. 1. 4. 6. 3. 5. 2. 0. 7. 4. 9. 5. 4. 1. 3.\n",
      " 3. 4. 9. 5. 9. 7. 6. 3. 4. 1. 1. 2. 0. 5. 4. 9.]\n",
      "Test infenreced label(answer):\n",
      "[9. 2. 1. 4. 1. 6. 7. 9. 6. 3. 1. 4. 6. 3. 5. 2. 0. 7. 4. 9. 5. 4. 1. 3.\n",
      " 3. 4. 9. 5. 9. 7. 6. 3. 4. 1. 1. 0. 0. 5. 4. 4.]\n",
      "----------------------------------------------------------------------------------------------------\n",
      "end. \n"
     ]
    }
   ],
   "source": [
    "SSDA.learn(ssda_iterator)"
   ]
  },
  {
   "cell_type": "markdown",
   "metadata": {},
   "source": [
    "Visualize losses and accuracies."
   ]
  },
  {
   "cell_type": "code",
   "execution_count": 19,
   "metadata": {
    "ExecuteTime": {
     "end_time": "2020-11-14T08:04:45.428759Z",
     "start_time": "2020-11-14T08:04:45.261208Z"
    }
   },
   "outputs": [
    {
     "data": {
      "image/png": "[encoded data removed]",
      "text/plain": [
       "<Figure size 1440x720 with 1 Axes>"
      ]
     },
     "metadata": {
      "needs_background": "light"
     },
     "output_type": "display_data"
    }
   ],
   "source": [
    "import matplotlib.pyplot as plt\n",
    "%matplotlib inline\n",
    "\n",
    "def moving_avg(arr, window=2):\n",
    "    return np.convolve(arr, np.ones(window) / window, mode='same')[window:-window]\n",
    "\n",
    "plt.figure(figsize=(20, 10))\n",
    "plt.plot(moving_avg(SSDA.loss_arr[:, 0]), label=\"Train.\")\n",
    "plt.plot(moving_avg(SSDA.loss_arr[:, 1]), label=\"Test.\")\n",
    "plt.legend()\n",
    "plt.title(\"Losses.\")\n",
    "plt.show()"
   ]
  },
  {
   "cell_type": "code",
   "execution_count": 20,
   "metadata": {
    "ExecuteTime": {
     "end_time": "2020-11-14T08:04:49.906487Z",
     "start_time": "2020-11-14T08:04:49.732954Z"
    }
   },
   "outputs": [
    {
     "data": {
      "image/png": "[encoded data removed]",
      "text/plain": [
       "<Figure size 1440x720 with 1 Axes>"
      ]
     },
     "metadata": {
      "needs_background": "light"
     },
     "output_type": "display_data"
    }
   ],
   "source": [
    "plt.figure(figsize=(20, 10))\n",
    "plt.plot(moving_avg(SSDA.acc_arr[:, 0]), label=\"Train.\")\n",
    "plt.plot(moving_avg(SSDA.acc_arr[:, 1]), label=\"Test.\")\n",
    "plt.legend()\n",
    "plt.title(\"Accuracies.\")\n",
    "plt.show()"
   ]
  },
  {
   "cell_type": "markdown",
   "metadata": {},
   "source": [
    "As a verification, let's calculate the accuracy of the test data."
   ]
  },
  {
   "cell_type": "code",
   "execution_count": 16,
   "metadata": {
    "ExecuteTime": {
     "end_time": "2020-11-14T07:54:31.681217Z",
     "start_time": "2020-11-14T07:54:24.089734Z"
    }
   },
   "outputs": [
    {
     "data": {
      "text/plain": [
       "0.9425000059604645"
      ]
     },
     "execution_count": 16,
     "metadata": {},
     "output_type": "execute_result"
    }
   ],
   "source": [
    "test_arr = None\n",
    "test_label_arr = None\n",
    "total_acc = 0.0\n",
    "i = 0\n",
    "for _, _, _test_arr, _label_test_arr, pretext_arr, pretext_label_arr in ssda_iterator.generate_learned_samples():\n",
    "    test_arr = _test_arr\n",
    "    test_label_arr = _label_test_arr\n",
    "    prob_arr = SSDA.inference(test_arr)\n",
    "    acc, _, _ = SSDA.compute_acc(prob_arr, test_label_arr)\n",
    "    total_acc += acc\n",
    "    i += 1\n",
    "    if i >= 50:\n",
    "        break\n",
    "avg_acc = total_acc / i\n",
    "avg_acc"
   ]
  },
  {
   "cell_type": "markdown",
   "metadata": {},
   "source": [
    "## For ML Ops.\n",
    "\n",
    "This model inherits [HybridBlock](https://gluon.mxnet.io/chapter07_distributed-learning/hybridize.html) from [mxnet.gluon](https://mxnet.incubator.apache.org/api/python/docs/api/gluon/index.html). Functions for common ML Ops such as saving and loading parameters are provided by [HybridBlock](https://mxnet.apache.org/api/python/docs/api/gluon/hybrid_block.html)."
   ]
  },
  {
   "cell_type": "markdown",
   "metadata": {},
   "source": [
    "# References\n",
    "\n",
    "- Ghifary, M., Kleijn, W. B., Zhang, M., Balduzzi, D., & Li, W. (2016, October). Deep reconstruction-classification networks for unsupervised domain adaptation. In European Conference on Computer Vision (pp. 597-613). Springer, Cham.\n",
    "- Xu, J., Xiao, L., & López, A. M. (2019). Self-supervised domain adaptation for computer vision tasks. IEEE Access, 7, 156694-156706., p156698."
   ]
  }
 ],
 "metadata": {
  "kernelspec": {
   "display_name": "Python 3",
   "language": "python",
   "name": "python3"
  },
  "language_info": {
   "codemirror_mode": {
    "name": "ipython",
    "version": 3
   },
   "file_extension": ".py",
   "mimetype": "text/x-python",
   "name": "python",
   "nbconvert_exporter": "python",
   "pygments_lexer": "ipython3",
   "version": "3.7.6"
  }
 },
 "nbformat": 4,
 "nbformat_minor": 2
}
